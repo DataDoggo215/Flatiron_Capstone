{
  "cells": [
    {
      "cell_type": "markdown",
      "metadata": {
        "id": "view-in-github",
        "colab_type": "text"
      },
      "source": [
        "<a href=\"https://colab.research.google.com/github/DataDoggo215/Flatiron_Capstone/blob/main/Densenet256x256_model.ipynb\" target=\"_parent\"><img src=\"https://colab.research.google.com/assets/colab-badge.svg\" alt=\"Open In Colab\"/></a>"
      ]
    },
    {
      "cell_type": "code",
      "execution_count": null,
      "metadata": {
        "id": "AKW023vdiA04"
      },
      "outputs": [],
      "source": [
        "import pandas as pd\n",
        "import numpy as np\n",
        "import matplotlib.pyplot as plt\n",
        "import matplotlib.image as mpimg\n",
        "import seaborn as sns\n",
        "%matplotlib inline\n",
        "\n",
        "import tensorflow as tf\n",
        "from tensorflow import keras\n",
        "from tensorflow.keras.models import Sequential\n",
        "from tensorflow.keras.layers import Activation, Dense, BatchNormalization, Conv2D, MaxPool2D, Dropout, Flatten\n",
        "from tensorflow.keras.optimizers import Adam\n",
        "from tensorflow.keras.metrics import categorical_crossentropy\n",
        "from tensorflow.keras.preprocessing.image import ImageDataGenerator, load_img, array_to_img, img_to_array\n",
        "from tensorflow.keras import datasets, layers, models\n",
        "from keras.callbacks import ModelCheckpoint\n",
        "from keras.models import Sequential, load_model\n",
        "from tensorflow.keras.callbacks import EarlyStopping, ModelCheckpoint, ReduceLROnPlateau\n",
        "\n",
        "from sklearn.model_selection import train_test_split\n",
        "from sklearn.metrics import confusion_matrix\n",
        "from sklearn.metrics import recall_score\n",
        "from sklearn.metrics import precision_score\n",
        "from sklearn.metrics import accuracy_score\n",
        "from sklearn.metrics import f1_score\n",
        "from sklearn.metrics import roc_auc_score\n",
        "\n",
        "import os, shutil\n",
        "\n",
        "from PIL import Image\n",
        "import PIL\n",
        "\n",
        "random_state = 112221"
      ],
      "id": "AKW023vdiA04"
    },
    {
      "cell_type": "code",
      "execution_count": null,
      "metadata": {
        "colab": {
          "base_uri": "https://localhost:8080/"
        },
        "id": "uMEHhTt4iOul",
        "outputId": "c5963366-4df1-4229-d8df-3427ead5ae94"
      },
      "outputs": [
        {
          "output_type": "stream",
          "name": "stdout",
          "text": [
            "Drive already mounted at /content/gdrive; to attempt to forcibly remount, call drive.mount(\"/content/gdrive\", force_remount=True).\n"
          ]
        }
      ],
      "source": [
        "#Mount to Google Drive\n",
        "from google.colab import drive\n",
        "drive.mount('/content/gdrive')"
      ],
      "id": "uMEHhTt4iOul"
    },
    {
      "cell_type": "code",
      "execution_count": null,
      "metadata": {
        "colab": {
          "base_uri": "https://localhost:8080/"
        },
        "id": "cqBFFGCYGHxI",
        "outputId": "1a7f0b56-f979-430b-ae7f-622908a371b9"
      },
      "outputs": [
        {
          "output_type": "stream",
          "name": "stdout",
          "text": [
            "Found GPU at: /device:GPU:0\n"
          ]
        }
      ],
      "source": [
        "#check google GPU\n",
        "%tensorflow_version 2.x\n",
        "import tensorflow as tf\n",
        "device_name = tf.test.gpu_device_name()\n",
        "if device_name != '/device:GPU:0':\n",
        "  raise SystemError('GPU device not found')\n",
        "print('Found GPU at: {}'.format(device_name))"
      ],
      "id": "cqBFFGCYGHxI"
    },
    {
      "cell_type": "markdown",
      "source": [
        "#Business Understanding"
      ],
      "metadata": {
        "id": "LAXeifP7kS_v"
      },
      "id": "LAXeifP7kS_v"
    },
    {
      "cell_type": "markdown",
      "source": [
        ""
      ],
      "metadata": {
        "id": "CTIYDv30k03m"
      },
      "id": "CTIYDv30k03m"
    },
    {
      "cell_type": "markdown",
      "metadata": {
        "id": "0cfb26e7"
      },
      "source": [
        "# EDA"
      ],
      "id": "0cfb26e7"
    },
    {
      "cell_type": "code",
      "execution_count": null,
      "metadata": {
        "colab": {
          "base_uri": "https://localhost:8080/",
          "height": 423
        },
        "id": "Ynf7zTnX71VV",
        "outputId": "421b79de-8b27-44e9-aba1-321e8dfff9dc"
      },
      "outputs": [
        {
          "output_type": "execute_result",
          "data": {
            "text/html": [
              "\n",
              "  <div id=\"df-56ce3276-9ebf-41a6-b388-3053fe09fe2a\">\n",
              "    <div class=\"colab-df-container\">\n",
              "      <div>\n",
              "<style scoped>\n",
              "    .dataframe tbody tr th:only-of-type {\n",
              "        vertical-align: middle;\n",
              "    }\n",
              "\n",
              "    .dataframe tbody tr th {\n",
              "        vertical-align: top;\n",
              "    }\n",
              "\n",
              "    .dataframe thead th {\n",
              "        text-align: right;\n",
              "    }\n",
              "</style>\n",
              "<table border=\"1\" class=\"dataframe\">\n",
              "  <thead>\n",
              "    <tr style=\"text-align: right;\">\n",
              "      <th></th>\n",
              "      <th>image</th>\n",
              "      <th>level</th>\n",
              "    </tr>\n",
              "  </thead>\n",
              "  <tbody>\n",
              "    <tr>\n",
              "      <th>0</th>\n",
              "      <td>10_left</td>\n",
              "      <td>0</td>\n",
              "    </tr>\n",
              "    <tr>\n",
              "      <th>1</th>\n",
              "      <td>10_right</td>\n",
              "      <td>0</td>\n",
              "    </tr>\n",
              "    <tr>\n",
              "      <th>2</th>\n",
              "      <td>13_left</td>\n",
              "      <td>0</td>\n",
              "    </tr>\n",
              "    <tr>\n",
              "      <th>3</th>\n",
              "      <td>13_right</td>\n",
              "      <td>0</td>\n",
              "    </tr>\n",
              "    <tr>\n",
              "      <th>4</th>\n",
              "      <td>15_left</td>\n",
              "      <td>1</td>\n",
              "    </tr>\n",
              "    <tr>\n",
              "      <th>...</th>\n",
              "      <td>...</td>\n",
              "      <td>...</td>\n",
              "    </tr>\n",
              "    <tr>\n",
              "      <th>35121</th>\n",
              "      <td>44347_right</td>\n",
              "      <td>0</td>\n",
              "    </tr>\n",
              "    <tr>\n",
              "      <th>35122</th>\n",
              "      <td>44348_left</td>\n",
              "      <td>0</td>\n",
              "    </tr>\n",
              "    <tr>\n",
              "      <th>35123</th>\n",
              "      <td>44348_right</td>\n",
              "      <td>0</td>\n",
              "    </tr>\n",
              "    <tr>\n",
              "      <th>35124</th>\n",
              "      <td>44349_left</td>\n",
              "      <td>0</td>\n",
              "    </tr>\n",
              "    <tr>\n",
              "      <th>35125</th>\n",
              "      <td>44349_right</td>\n",
              "      <td>1</td>\n",
              "    </tr>\n",
              "  </tbody>\n",
              "</table>\n",
              "<p>35126 rows × 2 columns</p>\n",
              "</div>\n",
              "      <button class=\"colab-df-convert\" onclick=\"convertToInteractive('df-56ce3276-9ebf-41a6-b388-3053fe09fe2a')\"\n",
              "              title=\"Convert this dataframe to an interactive table.\"\n",
              "              style=\"display:none;\">\n",
              "        \n",
              "  <svg xmlns=\"http://www.w3.org/2000/svg\" height=\"24px\"viewBox=\"0 0 24 24\"\n",
              "       width=\"24px\">\n",
              "    <path d=\"M0 0h24v24H0V0z\" fill=\"none\"/>\n",
              "    <path d=\"M18.56 5.44l.94 2.06.94-2.06 2.06-.94-2.06-.94-.94-2.06-.94 2.06-2.06.94zm-11 1L8.5 8.5l.94-2.06 2.06-.94-2.06-.94L8.5 2.5l-.94 2.06-2.06.94zm10 10l.94 2.06.94-2.06 2.06-.94-2.06-.94-.94-2.06-.94 2.06-2.06.94z\"/><path d=\"M17.41 7.96l-1.37-1.37c-.4-.4-.92-.59-1.43-.59-.52 0-1.04.2-1.43.59L10.3 9.45l-7.72 7.72c-.78.78-.78 2.05 0 2.83L4 21.41c.39.39.9.59 1.41.59.51 0 1.02-.2 1.41-.59l7.78-7.78 2.81-2.81c.8-.78.8-2.07 0-2.86zM5.41 20L4 18.59l7.72-7.72 1.47 1.35L5.41 20z\"/>\n",
              "  </svg>\n",
              "      </button>\n",
              "      \n",
              "  <style>\n",
              "    .colab-df-container {\n",
              "      display:flex;\n",
              "      flex-wrap:wrap;\n",
              "      gap: 12px;\n",
              "    }\n",
              "\n",
              "    .colab-df-convert {\n",
              "      background-color: #E8F0FE;\n",
              "      border: none;\n",
              "      border-radius: 50%;\n",
              "      cursor: pointer;\n",
              "      display: none;\n",
              "      fill: #1967D2;\n",
              "      height: 32px;\n",
              "      padding: 0 0 0 0;\n",
              "      width: 32px;\n",
              "    }\n",
              "\n",
              "    .colab-df-convert:hover {\n",
              "      background-color: #E2EBFA;\n",
              "      box-shadow: 0px 1px 2px rgba(60, 64, 67, 0.3), 0px 1px 3px 1px rgba(60, 64, 67, 0.15);\n",
              "      fill: #174EA6;\n",
              "    }\n",
              "\n",
              "    [theme=dark] .colab-df-convert {\n",
              "      background-color: #3B4455;\n",
              "      fill: #D2E3FC;\n",
              "    }\n",
              "\n",
              "    [theme=dark] .colab-df-convert:hover {\n",
              "      background-color: #434B5C;\n",
              "      box-shadow: 0px 1px 3px 1px rgba(0, 0, 0, 0.15);\n",
              "      filter: drop-shadow(0px 1px 2px rgba(0, 0, 0, 0.3));\n",
              "      fill: #FFFFFF;\n",
              "    }\n",
              "  </style>\n",
              "\n",
              "      <script>\n",
              "        const buttonEl =\n",
              "          document.querySelector('#df-56ce3276-9ebf-41a6-b388-3053fe09fe2a button.colab-df-convert');\n",
              "        buttonEl.style.display =\n",
              "          google.colab.kernel.accessAllowed ? 'block' : 'none';\n",
              "\n",
              "        async function convertToInteractive(key) {\n",
              "          const element = document.querySelector('#df-56ce3276-9ebf-41a6-b388-3053fe09fe2a');\n",
              "          const dataTable =\n",
              "            await google.colab.kernel.invokeFunction('convertToInteractive',\n",
              "                                                     [key], {});\n",
              "          if (!dataTable) return;\n",
              "\n",
              "          const docLinkHtml = 'Like what you see? Visit the ' +\n",
              "            '<a target=\"_blank\" href=https://colab.research.google.com/notebooks/data_table.ipynb>data table notebook</a>'\n",
              "            + ' to learn more about interactive tables.';\n",
              "          element.innerHTML = '';\n",
              "          dataTable['output_type'] = 'display_data';\n",
              "          await google.colab.output.renderOutput(dataTable, element);\n",
              "          const docLink = document.createElement('div');\n",
              "          docLink.innerHTML = docLinkHtml;\n",
              "          element.appendChild(docLink);\n",
              "        }\n",
              "      </script>\n",
              "    </div>\n",
              "  </div>\n",
              "  "
            ],
            "text/plain": [
              "             image  level\n",
              "0          10_left      0\n",
              "1         10_right      0\n",
              "2          13_left      0\n",
              "3         13_right      0\n",
              "4          15_left      1\n",
              "...            ...    ...\n",
              "35121  44347_right      0\n",
              "35122   44348_left      0\n",
              "35123  44348_right      0\n",
              "35124   44349_left      0\n",
              "35125  44349_right      1\n",
              "\n",
              "[35126 rows x 2 columns]"
            ]
          },
          "metadata": {},
          "execution_count": 4
        }
      ],
      "source": [
        "#Upload and examine the train labels\n",
        "train_labels = pd.read_csv('/content/gdrive/My Drive/Flatiron/trainLabels.csv')\n",
        "train_labels"
      ],
      "id": "Ynf7zTnX71VV"
    },
    {
      "cell_type": "markdown",
      "source": [
        "We see that the labels have the image name attached, but the images itself. We can fix this by adding .jpeg file extension to the names. For our intended use case, we are also only interested if the patient has the disease or not. We can make this a binary classification problem."
      ],
      "metadata": {
        "id": "_Q-2HFlak8He"
      },
      "id": "_Q-2HFlak8He"
    },
    {
      "cell_type": "code",
      "execution_count": null,
      "metadata": {
        "id": "FJ8n7CQ171cI"
      },
      "outputs": [],
      "source": [
        "#Add image extensions\n",
        "train_labels['image'] = train_labels['image'] + '.jpeg'\n",
        "#Binary Classification\n",
        "train_labels['level'].replace([1,2,3,4], 1, inplace = True)\n",
        "train_labels['level'] = train_labels['level'].astype('str')"
      ],
      "id": "FJ8n7CQ171cI"
    },
    {
      "cell_type": "code",
      "source": [
        "train_labels"
      ],
      "metadata": {
        "colab": {
          "base_uri": "https://localhost:8080/",
          "height": 423
        },
        "id": "TkDCaT8jmYlW",
        "outputId": "2a3d6b99-340e-499f-ac2e-3657d4e52b3b"
      },
      "id": "TkDCaT8jmYlW",
      "execution_count": null,
      "outputs": [
        {
          "output_type": "execute_result",
          "data": {
            "text/html": [
              "\n",
              "  <div id=\"df-10423e7c-e439-4033-981d-70646ce88945\">\n",
              "    <div class=\"colab-df-container\">\n",
              "      <div>\n",
              "<style scoped>\n",
              "    .dataframe tbody tr th:only-of-type {\n",
              "        vertical-align: middle;\n",
              "    }\n",
              "\n",
              "    .dataframe tbody tr th {\n",
              "        vertical-align: top;\n",
              "    }\n",
              "\n",
              "    .dataframe thead th {\n",
              "        text-align: right;\n",
              "    }\n",
              "</style>\n",
              "<table border=\"1\" class=\"dataframe\">\n",
              "  <thead>\n",
              "    <tr style=\"text-align: right;\">\n",
              "      <th></th>\n",
              "      <th>image</th>\n",
              "      <th>level</th>\n",
              "    </tr>\n",
              "  </thead>\n",
              "  <tbody>\n",
              "    <tr>\n",
              "      <th>0</th>\n",
              "      <td>10_left.jpeg</td>\n",
              "      <td>0</td>\n",
              "    </tr>\n",
              "    <tr>\n",
              "      <th>1</th>\n",
              "      <td>10_right.jpeg</td>\n",
              "      <td>0</td>\n",
              "    </tr>\n",
              "    <tr>\n",
              "      <th>2</th>\n",
              "      <td>13_left.jpeg</td>\n",
              "      <td>0</td>\n",
              "    </tr>\n",
              "    <tr>\n",
              "      <th>3</th>\n",
              "      <td>13_right.jpeg</td>\n",
              "      <td>0</td>\n",
              "    </tr>\n",
              "    <tr>\n",
              "      <th>4</th>\n",
              "      <td>15_left.jpeg</td>\n",
              "      <td>1</td>\n",
              "    </tr>\n",
              "    <tr>\n",
              "      <th>...</th>\n",
              "      <td>...</td>\n",
              "      <td>...</td>\n",
              "    </tr>\n",
              "    <tr>\n",
              "      <th>35121</th>\n",
              "      <td>44347_right.jpeg</td>\n",
              "      <td>0</td>\n",
              "    </tr>\n",
              "    <tr>\n",
              "      <th>35122</th>\n",
              "      <td>44348_left.jpeg</td>\n",
              "      <td>0</td>\n",
              "    </tr>\n",
              "    <tr>\n",
              "      <th>35123</th>\n",
              "      <td>44348_right.jpeg</td>\n",
              "      <td>0</td>\n",
              "    </tr>\n",
              "    <tr>\n",
              "      <th>35124</th>\n",
              "      <td>44349_left.jpeg</td>\n",
              "      <td>0</td>\n",
              "    </tr>\n",
              "    <tr>\n",
              "      <th>35125</th>\n",
              "      <td>44349_right.jpeg</td>\n",
              "      <td>1</td>\n",
              "    </tr>\n",
              "  </tbody>\n",
              "</table>\n",
              "<p>35126 rows × 2 columns</p>\n",
              "</div>\n",
              "      <button class=\"colab-df-convert\" onclick=\"convertToInteractive('df-10423e7c-e439-4033-981d-70646ce88945')\"\n",
              "              title=\"Convert this dataframe to an interactive table.\"\n",
              "              style=\"display:none;\">\n",
              "        \n",
              "  <svg xmlns=\"http://www.w3.org/2000/svg\" height=\"24px\"viewBox=\"0 0 24 24\"\n",
              "       width=\"24px\">\n",
              "    <path d=\"M0 0h24v24H0V0z\" fill=\"none\"/>\n",
              "    <path d=\"M18.56 5.44l.94 2.06.94-2.06 2.06-.94-2.06-.94-.94-2.06-.94 2.06-2.06.94zm-11 1L8.5 8.5l.94-2.06 2.06-.94-2.06-.94L8.5 2.5l-.94 2.06-2.06.94zm10 10l.94 2.06.94-2.06 2.06-.94-2.06-.94-.94-2.06-.94 2.06-2.06.94z\"/><path d=\"M17.41 7.96l-1.37-1.37c-.4-.4-.92-.59-1.43-.59-.52 0-1.04.2-1.43.59L10.3 9.45l-7.72 7.72c-.78.78-.78 2.05 0 2.83L4 21.41c.39.39.9.59 1.41.59.51 0 1.02-.2 1.41-.59l7.78-7.78 2.81-2.81c.8-.78.8-2.07 0-2.86zM5.41 20L4 18.59l7.72-7.72 1.47 1.35L5.41 20z\"/>\n",
              "  </svg>\n",
              "      </button>\n",
              "      \n",
              "  <style>\n",
              "    .colab-df-container {\n",
              "      display:flex;\n",
              "      flex-wrap:wrap;\n",
              "      gap: 12px;\n",
              "    }\n",
              "\n",
              "    .colab-df-convert {\n",
              "      background-color: #E8F0FE;\n",
              "      border: none;\n",
              "      border-radius: 50%;\n",
              "      cursor: pointer;\n",
              "      display: none;\n",
              "      fill: #1967D2;\n",
              "      height: 32px;\n",
              "      padding: 0 0 0 0;\n",
              "      width: 32px;\n",
              "    }\n",
              "\n",
              "    .colab-df-convert:hover {\n",
              "      background-color: #E2EBFA;\n",
              "      box-shadow: 0px 1px 2px rgba(60, 64, 67, 0.3), 0px 1px 3px 1px rgba(60, 64, 67, 0.15);\n",
              "      fill: #174EA6;\n",
              "    }\n",
              "\n",
              "    [theme=dark] .colab-df-convert {\n",
              "      background-color: #3B4455;\n",
              "      fill: #D2E3FC;\n",
              "    }\n",
              "\n",
              "    [theme=dark] .colab-df-convert:hover {\n",
              "      background-color: #434B5C;\n",
              "      box-shadow: 0px 1px 3px 1px rgba(0, 0, 0, 0.15);\n",
              "      filter: drop-shadow(0px 1px 2px rgba(0, 0, 0, 0.3));\n",
              "      fill: #FFFFFF;\n",
              "    }\n",
              "  </style>\n",
              "\n",
              "      <script>\n",
              "        const buttonEl =\n",
              "          document.querySelector('#df-10423e7c-e439-4033-981d-70646ce88945 button.colab-df-convert');\n",
              "        buttonEl.style.display =\n",
              "          google.colab.kernel.accessAllowed ? 'block' : 'none';\n",
              "\n",
              "        async function convertToInteractive(key) {\n",
              "          const element = document.querySelector('#df-10423e7c-e439-4033-981d-70646ce88945');\n",
              "          const dataTable =\n",
              "            await google.colab.kernel.invokeFunction('convertToInteractive',\n",
              "                                                     [key], {});\n",
              "          if (!dataTable) return;\n",
              "\n",
              "          const docLinkHtml = 'Like what you see? Visit the ' +\n",
              "            '<a target=\"_blank\" href=https://colab.research.google.com/notebooks/data_table.ipynb>data table notebook</a>'\n",
              "            + ' to learn more about interactive tables.';\n",
              "          element.innerHTML = '';\n",
              "          dataTable['output_type'] = 'display_data';\n",
              "          await google.colab.output.renderOutput(dataTable, element);\n",
              "          const docLink = document.createElement('div');\n",
              "          docLink.innerHTML = docLinkHtml;\n",
              "          element.appendChild(docLink);\n",
              "        }\n",
              "      </script>\n",
              "    </div>\n",
              "  </div>\n",
              "  "
            ],
            "text/plain": [
              "                  image level\n",
              "0          10_left.jpeg     0\n",
              "1         10_right.jpeg     0\n",
              "2          13_left.jpeg     0\n",
              "3         13_right.jpeg     0\n",
              "4          15_left.jpeg     1\n",
              "...                 ...   ...\n",
              "35121  44347_right.jpeg     0\n",
              "35122   44348_left.jpeg     0\n",
              "35123  44348_right.jpeg     0\n",
              "35124   44349_left.jpeg     0\n",
              "35125  44349_right.jpeg     1\n",
              "\n",
              "[35126 rows x 2 columns]"
            ]
          },
          "metadata": {},
          "execution_count": 6
        }
      ]
    },
    {
      "cell_type": "markdown",
      "metadata": {
        "id": "XGNZhjE28SBq"
      },
      "source": [
        "#Train/Test Split"
      ],
      "id": "XGNZhjE28SBq"
    },
    {
      "cell_type": "markdown",
      "source": [
        "The Dataset contains 35126 images. We will split the dataset first into a test and train split and then perform another split to keep a set for validation. The split of 10% was chosen because there are enough images to make a sizable test and validation sample at that threshold. "
      ],
      "metadata": {
        "id": "au4PxOHXrh3M"
      },
      "id": "au4PxOHXrh3M"
    },
    {
      "cell_type": "code",
      "execution_count": null,
      "metadata": {
        "id": "88U_FHz571nP"
      },
      "outputs": [],
      "source": [
        "initial_train_sp, test_sp = train_test_split(train_labels, test_size=.1, stratify= train_labels['level'], random_state=random_state)"
      ],
      "id": "88U_FHz571nP"
    },
    {
      "cell_type": "code",
      "execution_count": null,
      "metadata": {
        "id": "xFXgyDnf71rN"
      },
      "outputs": [],
      "source": [
        "train_sp, val_sp = train_test_split(initial_train_sp, test_size=.1, stratify= initial_train_sp['level'], random_state=random_state)"
      ],
      "id": "xFXgyDnf71rN"
    },
    {
      "cell_type": "code",
      "source": [
        "test_reshaped = np.array(test_sp['level']).reshape(-1,1).astype(int)\n",
        "test_reshaped"
      ],
      "metadata": {
        "colab": {
          "base_uri": "https://localhost:8080/"
        },
        "id": "B03wOPcG14oD",
        "outputId": "b155524a-ae54-4afe-ee1d-0b8eb49de9d6"
      },
      "id": "B03wOPcG14oD",
      "execution_count": null,
      "outputs": [
        {
          "output_type": "execute_result",
          "data": {
            "text/plain": [
              "array([[0],\n",
              "       [0],\n",
              "       [0],\n",
              "       ...,\n",
              "       [0],\n",
              "       [0],\n",
              "       [0]])"
            ]
          },
          "metadata": {},
          "execution_count": 9
        }
      ]
    },
    {
      "cell_type": "markdown",
      "metadata": {
        "id": "wud-PqG88Zj1"
      },
      "source": [
        "#Making Directories"
      ],
      "id": "wud-PqG88Zj1"
    },
    {
      "cell_type": "code",
      "execution_count": null,
      "metadata": {
        "id": "vPshegLI0KLp"
      },
      "outputs": [],
      "source": [
        "data_dir = '/content/gdrive/My Drive/Flatiron/kaggle_train'"
      ],
      "id": "vPshegLI0KLp"
    },
    {
      "cell_type": "code",
      "execution_count": null,
      "metadata": {
        "colab": {
          "base_uri": "https://localhost:8080/"
        },
        "id": "fPUbNCfy1M2j",
        "outputId": "9b5997e0-5a87-4b5e-e86a-c15ee7e473b8"
      },
      "outputs": [
        {
          "output_type": "execute_result",
          "data": {
            "text/plain": [
              "['14702_left.jpeg',\n",
              " '1469_left.jpeg',\n",
              " '14698_left.jpeg',\n",
              " '1469_right.jpeg',\n",
              " '14698_right.jpeg',\n",
              " '14702_right.jpeg',\n",
              " '14712_left.jpeg',\n",
              " '14711_left.jpeg',\n",
              " '14711_right.jpeg',\n",
              " '14710_right.jpeg']"
            ]
          },
          "metadata": {},
          "execution_count": 11
        }
      ],
      "source": [
        "local_dataset_imgs_names = [file for file in os.listdir(data_dir)]\n",
        "local_dataset_imgs_names[30000:30010]"
      ],
      "id": "fPUbNCfy1M2j"
    },
    {
      "cell_type": "code",
      "execution_count": null,
      "metadata": {
        "colab": {
          "base_uri": "https://localhost:8080/"
        },
        "id": "fRWYTAKT1M5D",
        "outputId": "e3054ae7-58e1-4047-c925-064298a533eb"
      },
      "outputs": [
        {
          "output_type": "stream",
          "name": "stdout",
          "text": [
            "There are 35126 eye images.\n"
          ]
        }
      ],
      "source": [
        "print('There are', len(local_dataset_imgs_names), 'eye images.')"
      ],
      "id": "fRWYTAKT1M5D"
    },
    {
      "cell_type": "code",
      "source": [
        "train_labels['level'].value_counts()"
      ],
      "metadata": {
        "colab": {
          "base_uri": "https://localhost:8080/"
        },
        "id": "TQ6soW6ry-xo",
        "outputId": "b11b50a5-ee10-4f0a-def1-909648660a16"
      },
      "id": "TQ6soW6ry-xo",
      "execution_count": null,
      "outputs": [
        {
          "output_type": "execute_result",
          "data": {
            "text/plain": [
              "0    25810\n",
              "1     9316\n",
              "Name: level, dtype: int64"
            ]
          },
          "metadata": {},
          "execution_count": 13
        }
      ]
    },
    {
      "cell_type": "code",
      "execution_count": null,
      "metadata": {
        "id": "izeoeOgr1M7w"
      },
      "outputs": [],
      "source": [
        "local_split_dir = '/content/gdrive/My Drive/Flatiron/split'\n",
        "\n",
        "\n",
        "train_folder = os.path.join(local_split_dir, 'train')\n",
        "val_folder = os.path.join(local_split_dir, 'validation')\n",
        "test_folder = os.path.join(local_split_dir, 'test')\n"
      ],
      "id": "izeoeOgr1M7w"
    },
    {
      "cell_type": "code",
      "source": [
        "train_norm_dir = os.path.join(train_folder, '0')\n",
        "train_positive_dir = os.path.join(train_folder, '1')"
      ],
      "metadata": {
        "id": "fLmtW3Icg342"
      },
      "id": "fLmtW3Icg342",
      "execution_count": null,
      "outputs": []
    },
    {
      "cell_type": "code",
      "source": [
        "normal= len(os.listdir(train_norm_dir))\n",
        "positive= len(os.listdir(train_positive_dir))\n",
        "\n",
        "train_count = normal + positive\n",
        "weight_for_0 = (1 / normal) * (train_count) / 2.0\n",
        "weight_for_1 = (1 / positive) * (train_count) / 2.0\n",
        "\n",
        "weight = {0: weight_for_0, 1: weight_for_1}\n",
        "\n",
        "print(\"Weight for class 0: {:.2f}\".format(weight_for_0))\n",
        "print(\"Weight for class 1: {:.2f}\".format(weight_for_1))"
      ],
      "metadata": {
        "colab": {
          "base_uri": "https://localhost:8080/"
        },
        "id": "y-dimrYanfcX",
        "outputId": "a05b3acc-673a-487b-955a-c4c62da0db78"
      },
      "execution_count": null,
      "outputs": [
        {
          "output_type": "stream",
          "name": "stdout",
          "text": [
            "Weight for class 0: 0.68\n",
            "Weight for class 1: 1.89\n"
          ]
        }
      ],
      "id": "y-dimrYanfcX"
    },
    {
      "cell_type": "code",
      "source": [
        "len(os.listdir(train_positive_dir ))"
      ],
      "metadata": {
        "colab": {
          "base_uri": "https://localhost:8080/"
        },
        "id": "2R68KT8lgBOf",
        "outputId": "16e1c2fd-505c-42ea-8732-f0d2f7dc010f"
      },
      "id": "2R68KT8lgBOf",
      "execution_count": null,
      "outputs": [
        {
          "output_type": "execute_result",
          "data": {
            "text/plain": [
              "7545"
            ]
          },
          "metadata": {},
          "execution_count": 17
        }
      ]
    },
    {
      "cell_type": "code",
      "execution_count": null,
      "metadata": {
        "id": "oxUddww_1M_N"
      },
      "outputs": [],
      "source": [
        "#Make Directories\n",
        "#os.mkdir(train_folder)\n",
        "#os.mkdir(val_folder)\n",
        "#os.mkdir(test_folder)"
      ],
      "id": "oxUddww_1M_N"
    },
    {
      "cell_type": "code",
      "execution_count": null,
      "metadata": {
        "id": "RCGcBi-x1NEt"
      },
      "outputs": [],
      "source": [
        "#make sub directroies\n",
        "#for class_name in train_labels['level'].unique():\n",
        " #    for folder in ['train', 'validation', 'test']:\n",
        "  #       os.mkdir(os.path.join('/content/gdrive/My Drive/Flatiron/split/', folder, class_name))\n"
      ],
      "id": "RCGcBi-x1NEt"
    },
    {
      "cell_type": "code",
      "execution_count": null,
      "metadata": {
        "id": "lJ5DUE3n1NJf"
      },
      "outputs": [],
      "source": [
        "img_dfs = [train_sp, val_sp, test_sp]\n",
        "img_names_prezip = [list(df['image'].values) for df in img_dfs]\n",
        "img_names = list(zip([('train'), ('validation'), ('test')], img_names_prezip))"
      ],
      "id": "lJ5DUE3n1NJf"
    },
    {
      "cell_type": "code",
      "execution_count": null,
      "metadata": {
        "id": "YcdL4pO51NOT"
      },
      "outputs": [],
      "source": [
        "# for folder, img_list in img_names:\n",
        "#      for image in img_list:\n",
        "#         class_name = train_labels[train_labels['image'] == image]['level'].values[0]\n",
        "#         origin = os.path.join(data_dir, image)\n",
        "#         destination = os.path.join('/content/gdrive/My Drive/Flatiron/split/', folder, class_name, image)\n",
        "#         shutil.copyfile(origin, destination)"
      ],
      "id": "YcdL4pO51NOT"
    },
    {
      "cell_type": "markdown",
      "metadata": {
        "id": "d3284a7a"
      },
      "source": [
        "## Model creation"
      ],
      "id": "d3284a7a"
    },
    {
      "cell_type": "code",
      "execution_count": null,
      "metadata": {
        "colab": {
          "base_uri": "https://localhost:8080/"
        },
        "id": "FtBQeXbywSkC",
        "outputId": "72e70ffa-9112-4287-cc94-8755e2a7a23d"
      },
      "outputs": [
        {
          "output_type": "stream",
          "name": "stdout",
          "text": [
            "Found 28451 files belonging to 2 classes.\n",
            "Found 3162 files belonging to 2 classes.\n",
            "Found 3513 files belonging to 2 classes.\n"
          ]
        }
      ],
      "source": [
        "image_size = (256,256)\n",
        "batch_size = 32\n",
        "\n",
        "train_ds = tf.keras.preprocessing.image_dataset_from_directory(\n",
        "    train_folder,\n",
        "    image_size=image_size,\n",
        "    batch_size=batch_size,\n",
        ")\n",
        "val_ds = tf.keras.preprocessing.image_dataset_from_directory(\n",
        "    val_folder,\n",
        "    image_size=image_size,\n",
        "    batch_size=batch_size,\n",
        ")\n",
        "\n",
        "\n",
        "test_ds = tf.keras.preprocessing.image_dataset_from_directory(\n",
        "    test_folder,\n",
        "    image_size=image_size,\n",
        "    batch_size=batch_size,\n",
        ")\n"
      ],
      "id": "FtBQeXbywSkC"
    },
    {
      "cell_type": "code",
      "execution_count": null,
      "metadata": {
        "id": "-G3yRU-Ay14x"
      },
      "outputs": [],
      "source": [
        "data_augmentation = keras.Sequential(\n",
        "    [\n",
        "        layers.RandomFlip(\"horizontal\"),\n",
        "        layers.RandomZoom(0.2),\n",
        "        layers.RandomContrast(0.2),\n",
        "        layers.RandomRotation(0.1),\n",
        "    ]\n",
        ")"
      ],
      "id": "-G3yRU-Ay14x"
    },
    {
      "cell_type": "code",
      "execution_count": null,
      "metadata": {
        "id": "steiwnJwwt8W"
      },
      "outputs": [],
      "source": [
        "AUTOTUNE = tf.data.AUTOTUNE\n",
        "\n",
        "train_ds = train_ds.cache().prefetch(buffer_size=AUTOTUNE)\n",
        "val_ds = val_ds.cache().prefetch(buffer_size=AUTOTUNE)"
      ],
      "id": "steiwnJwwt8W"
    },
    {
      "cell_type": "markdown",
      "source": [
        "Modeling"
      ],
      "metadata": {
        "id": "RJIC58Mfcqdh"
      },
      "id": "RJIC58Mfcqdh"
    },
    {
      "cell_type": "markdown",
      "metadata": {
        "id": "Wadm-DhQVItM"
      },
      "source": [
        "DenseNet201"
      ],
      "id": "Wadm-DhQVItM"
    },
    {
      "cell_type": "markdown",
      "source": [
        "# DenseNet201 accounting for class imbalance"
      ],
      "metadata": {
        "id": "XTRbJ07md8mw"
      },
      "id": "XTRbJ07md8mw"
    },
    {
      "cell_type": "code",
      "execution_count": null,
      "metadata": {
        "id": "f1erPGOXe2LL"
      },
      "outputs": [],
      "source": [
        "base_model = keras.applications.DenseNet201(\n",
        "    weights='imagenet',  # Load weights pre-trained on ImageNet.\n",
        "    input_shape=(256,256, 3),\n",
        "    include_top=False)  # Do not include the ImageNet classifier at the top.\n",
        "\n",
        "base_model.trainable = False"
      ],
      "id": "f1erPGOXe2LL"
    },
    {
      "cell_type": "code",
      "execution_count": null,
      "metadata": {
        "colab": {
          "base_uri": "https://localhost:8080/"
        },
        "outputId": "699993fd-ddcf-41ca-a60b-15507b7675eb",
        "id": "NlSxWO4fe2LL"
      },
      "outputs": [
        {
          "output_type": "stream",
          "name": "stdout",
          "text": [
            "Model: \"model\"\n",
            "_________________________________________________________________\n",
            " Layer (type)                Output Shape              Param #   \n",
            "=================================================================\n",
            " input_2 (InputLayer)        [(None, 256, 256, 3)]     0         \n",
            "                                                                 \n",
            " sequential (Sequential)     (None, 256, 256, 3)       0         \n",
            "                                                                 \n",
            " rescaling (Rescaling)       (None, 256, 256, 3)       0         \n",
            "                                                                 \n",
            " densenet201 (Functional)    (None, 8, 8, 1920)        18321984  \n",
            "                                                                 \n",
            " global_average_pooling2d (G  (None, 1920)             0         \n",
            " lobalAveragePooling2D)                                          \n",
            "                                                                 \n",
            " dropout (Dropout)           (None, 1920)              0         \n",
            "                                                                 \n",
            " dense (Dense)               (None, 1)                 1921      \n",
            "                                                                 \n",
            "=================================================================\n",
            "Total params: 18,323,905\n",
            "Trainable params: 1,921\n",
            "Non-trainable params: 18,321,984\n",
            "_________________________________________________________________\n"
          ]
        }
      ],
      "source": [
        "# Create new model on top\n",
        "inputs = keras.Input(shape=(256, 256, 3))\n",
        "# We make sure that the base_model is running in inference mode here,\n",
        "# by passing `training=False`. This is important for fine-tuning, as you will\n",
        "# learn in a few paragraphs.\n",
        "x = data_augmentation(inputs)\n",
        "\n",
        "# Pre-trained Xception weights requires that input be scaled\n",
        "# from (0, 255) to a range of (-1., +1.), the rescaling layer\n",
        "# outputs: `(inputs * scale) + offset`\n",
        "scale_layer = keras.layers.Rescaling(scale=1 / 127.5, offset=-1)\n",
        "x = scale_layer(x)\n",
        "\n",
        "# The base model contains batchnorm layers. We want to keep them in inference mode\n",
        "# when we unfreeze the base model for fine-tuning, so we make sure that the\n",
        "# base_model is running in inference mode here.\n",
        "x = base_model(x, training=False)\n",
        "x = keras.layers.GlobalAveragePooling2D()(x)\n",
        "x = keras.layers.Dropout(0.2)(x)  # Regularize with dropout\n",
        "outputs = keras.layers.Dense(1)(x)\n",
        "model = keras.Model(inputs, outputs)\n",
        "\n",
        "model.summary()"
      ],
      "id": "NlSxWO4fe2LL"
    },
    {
      "cell_type": "code",
      "execution_count": null,
      "metadata": {
        "colab": {
          "base_uri": "https://localhost:8080/"
        },
        "outputId": "8bdb6c3e-f5e2-4706-f0b8-620a8c630a7e",
        "id": "GCgx4_2Ce2LM"
      },
      "outputs": [
        {
          "output_type": "stream",
          "name": "stdout",
          "text": [
            "Epoch 1/20\n",
            "890/890 [==============================] - ETA: 0s - loss: 0.6743 - binary_accuracy: 0.6988\n",
            "Epoch 1: val_loss improved from inf to 0.60284, saving model to /content/gdrive/My Drive/Flatiron/models/densenet256x256_weighted.hdf5\n",
            "890/890 [==============================] - 1983s 2s/step - loss: 0.6743 - binary_accuracy: 0.6988 - val_loss: 0.6028 - val_binary_accuracy: 0.7546\n",
            "Epoch 2/20\n",
            "889/890 [============================>.] - ETA: 0s - loss: 0.6511 - binary_accuracy: 0.7221\n",
            "Epoch 2: val_loss did not improve from 0.60284\n",
            "890/890 [==============================] - 112s 126ms/step - loss: 0.6512 - binary_accuracy: 0.7221 - val_loss: 0.6138 - val_binary_accuracy: 0.7546\n",
            "Epoch 3/20\n",
            "889/890 [============================>.] - ETA: 0s - loss: 0.6478 - binary_accuracy: 0.7204\n",
            "Epoch 3: val_loss did not improve from 0.60284\n",
            "890/890 [==============================] - 110s 124ms/step - loss: 0.6479 - binary_accuracy: 0.7203 - val_loss: 0.6639 - val_binary_accuracy: 0.7356\n",
            "Epoch 4/20\n",
            "889/890 [============================>.] - ETA: 0s - loss: 0.6463 - binary_accuracy: 0.7225\n",
            "Epoch 4: val_loss did not improve from 0.60284\n",
            "890/890 [==============================] - 110s 123ms/step - loss: 0.6464 - binary_accuracy: 0.7225 - val_loss: 0.6076 - val_binary_accuracy: 0.7540\n",
            "Epoch 5/20\n",
            "889/890 [============================>.] - ETA: 0s - loss: 0.6466 - binary_accuracy: 0.7227\n",
            "Epoch 5: val_loss did not improve from 0.60284\n",
            "890/890 [==============================] - 110s 123ms/step - loss: 0.6467 - binary_accuracy: 0.7226 - val_loss: 0.6087 - val_binary_accuracy: 0.7577\n",
            "Epoch 6/20\n",
            "889/890 [============================>.] - ETA: 0s - loss: 0.6449 - binary_accuracy: 0.7208\n",
            "Epoch 6: val_loss did not improve from 0.60284\n",
            "890/890 [==============================] - 110s 123ms/step - loss: 0.6450 - binary_accuracy: 0.7208 - val_loss: 0.6192 - val_binary_accuracy: 0.7533\n",
            "Epoch 7/20\n",
            "889/890 [============================>.] - ETA: 0s - loss: 0.6407 - binary_accuracy: 0.7263\n",
            "Epoch 7: val_loss did not improve from 0.60284\n",
            "890/890 [==============================] - 110s 123ms/step - loss: 0.6408 - binary_accuracy: 0.7263 - val_loss: 0.6036 - val_binary_accuracy: 0.7619\n",
            "Epoch 8/20\n",
            "889/890 [============================>.] - ETA: 0s - loss: 0.6411 - binary_accuracy: 0.7261\n",
            "Epoch 8: val_loss did not improve from 0.60284\n",
            "890/890 [==============================] - 110s 123ms/step - loss: 0.6411 - binary_accuracy: 0.7261 - val_loss: 0.6485 - val_binary_accuracy: 0.7388\n",
            "Epoch 9/20\n",
            "889/890 [============================>.] - ETA: 0s - loss: 0.6403 - binary_accuracy: 0.7265\n",
            "Epoch 9: val_loss improved from 0.60284 to 0.58485, saving model to /content/gdrive/My Drive/Flatiron/models/densenet256x256_weighted.hdf5\n",
            "890/890 [==============================] - 112s 126ms/step - loss: 0.6403 - binary_accuracy: 0.7265 - val_loss: 0.5849 - val_binary_accuracy: 0.7606\n",
            "Epoch 10/20\n",
            "889/890 [============================>.] - ETA: 0s - loss: 0.6435 - binary_accuracy: 0.7213\n",
            "Epoch 10: val_loss did not improve from 0.58485\n",
            "890/890 [==============================] - 110s 123ms/step - loss: 0.6435 - binary_accuracy: 0.7213 - val_loss: 0.6045 - val_binary_accuracy: 0.7596\n",
            "Epoch 11/20\n",
            "889/890 [============================>.] - ETA: 0s - loss: 0.6405 - binary_accuracy: 0.7260\n",
            "Epoch 11: val_loss did not improve from 0.58485\n",
            "890/890 [==============================] - 110s 123ms/step - loss: 0.6406 - binary_accuracy: 0.7260 - val_loss: 0.6108 - val_binary_accuracy: 0.7584\n",
            "Epoch 12/20\n",
            "889/890 [============================>.] - ETA: 0s - loss: 0.6442 - binary_accuracy: 0.7238\n",
            "Epoch 12: val_loss did not improve from 0.58485\n",
            "890/890 [==============================] - 110s 123ms/step - loss: 0.6443 - binary_accuracy: 0.7237 - val_loss: 0.6053 - val_binary_accuracy: 0.7596\n",
            "Epoch 13/20\n",
            "889/890 [============================>.] - ETA: 0s - loss: 0.6432 - binary_accuracy: 0.7210\n",
            "Epoch 13: val_loss improved from 0.58485 to 0.58069, saving model to /content/gdrive/My Drive/Flatiron/models/densenet256x256_weighted.hdf5\n",
            "890/890 [==============================] - 111s 125ms/step - loss: 0.6432 - binary_accuracy: 0.7210 - val_loss: 0.5807 - val_binary_accuracy: 0.7672\n",
            "Epoch 14/20\n",
            "889/890 [============================>.] - ETA: 0s - loss: 0.6427 - binary_accuracy: 0.7236\n",
            "Epoch 14: val_loss did not improve from 0.58069\n",
            "890/890 [==============================] - 110s 123ms/step - loss: 0.6428 - binary_accuracy: 0.7236 - val_loss: 0.6241 - val_binary_accuracy: 0.7530\n",
            "Epoch 15/20\n",
            "889/890 [============================>.] - ETA: 0s - loss: 0.6417 - binary_accuracy: 0.7253\n",
            "Epoch 15: val_loss did not improve from 0.58069\n",
            "890/890 [==============================] - 110s 123ms/step - loss: 0.6417 - binary_accuracy: 0.7253 - val_loss: 0.5825 - val_binary_accuracy: 0.7647\n",
            "Epoch 16/20\n",
            "889/890 [============================>.] - ETA: 0s - loss: 0.6417 - binary_accuracy: 0.7255\n",
            "Epoch 16: val_loss did not improve from 0.58069\n",
            "890/890 [==============================] - 110s 124ms/step - loss: 0.6418 - binary_accuracy: 0.7255 - val_loss: 0.6145 - val_binary_accuracy: 0.7536\n",
            "Epoch 17/20\n",
            "889/890 [============================>.] - ETA: 0s - loss: 0.6438 - binary_accuracy: 0.7226\n",
            "Epoch 17: val_loss did not improve from 0.58069\n",
            "890/890 [==============================] - 110s 123ms/step - loss: 0.6439 - binary_accuracy: 0.7225 - val_loss: 0.6017 - val_binary_accuracy: 0.7571\n",
            "Epoch 18/20\n",
            "889/890 [============================>.] - ETA: 0s - loss: 0.6428 - binary_accuracy: 0.7240\n",
            "Epoch 18: val_loss did not improve from 0.58069\n",
            "890/890 [==============================] - 110s 123ms/step - loss: 0.6429 - binary_accuracy: 0.7239 - val_loss: 0.6078 - val_binary_accuracy: 0.7593\n",
            "Epoch 19/20\n",
            "889/890 [============================>.] - ETA: 0s - loss: 0.6409 - binary_accuracy: 0.7213\n",
            "Epoch 19: val_loss did not improve from 0.58069\n",
            "890/890 [==============================] - 110s 123ms/step - loss: 0.6410 - binary_accuracy: 0.7212 - val_loss: 0.6120 - val_binary_accuracy: 0.7581\n",
            "Epoch 20/20\n",
            "889/890 [============================>.] - ETA: 0s - loss: 0.6426 - binary_accuracy: 0.7240\n",
            "Epoch 20: val_loss did not improve from 0.58069\n",
            "890/890 [==============================] - 110s 123ms/step - loss: 0.6427 - binary_accuracy: 0.7239 - val_loss: 0.5820 - val_binary_accuracy: 0.7628\n"
          ]
        },
        {
          "output_type": "execute_result",
          "data": {
            "text/plain": [
              "<keras.callbacks.History at 0x7f794e0c2cd0>"
            ]
          },
          "metadata": {},
          "execution_count": 27
        }
      ],
      "source": [
        "epochs = 20\n",
        "filepath = '/content/gdrive/My Drive/Flatiron/models/densenet256x256_weighted.hdf5'\n",
        "\n",
        "callbacks = ModelCheckpoint(filepath=filepath, \n",
        "                             monitor='val_loss',\n",
        "                             verbose=1, \n",
        "                             save_best_only=True,\n",
        "                             mode='min')\n",
        "\n",
        "model.compile(\n",
        "    optimizer=keras.optimizers.Adam(),\n",
        "    loss=keras.losses.BinaryCrossentropy(from_logits=True),\n",
        "    metrics=[keras.metrics.BinaryAccuracy()],\n",
        ")\n",
        "model.fit(\n",
        "    train_ds, epochs=epochs, callbacks=callbacks, validation_data=val_ds,class_weight=weight,\n",
        ")"
      ],
      "id": "GCgx4_2Ce2LM"
    },
    {
      "cell_type": "code",
      "execution_count": null,
      "metadata": {
        "colab": {
          "base_uri": "https://localhost:8080/"
        },
        "outputId": "3743aaa1-195c-41e6-a8b9-0add2916ed5f",
        "id": "Jx81Y5jZe2LM"
      },
      "outputs": [
        {
          "output_type": "stream",
          "name": "stdout",
          "text": [
            "Model: \"model\"\n",
            "_________________________________________________________________\n",
            " Layer (type)                Output Shape              Param #   \n",
            "=================================================================\n",
            " input_2 (InputLayer)        [(None, 256, 256, 3)]     0         \n",
            "                                                                 \n",
            " sequential (Sequential)     (None, 256, 256, 3)       0         \n",
            "                                                                 \n",
            " rescaling (Rescaling)       (None, 256, 256, 3)       0         \n",
            "                                                                 \n",
            " densenet201 (Functional)    (None, 8, 8, 1920)        18321984  \n",
            "                                                                 \n",
            " global_average_pooling2d (G  (None, 1920)             0         \n",
            " lobalAveragePooling2D)                                          \n",
            "                                                                 \n",
            " dropout (Dropout)           (None, 1920)              0         \n",
            "                                                                 \n",
            " dense (Dense)               (None, 1)                 1921      \n",
            "                                                                 \n",
            "=================================================================\n",
            "Total params: 18,323,905\n",
            "Trainable params: 18,094,849\n",
            "Non-trainable params: 229,056\n",
            "_________________________________________________________________\n",
            "Epoch 1/30\n",
            "890/890 [==============================] - ETA: 0s - loss: 0.6155 - binary_accuracy: 0.7499\n",
            "Epoch 1: val_loss improved from inf to 0.64110, saving model to /content/gdrive/My Drive/Flatiron/models/densenet256x256_weighted_tuned.hdf5\n",
            "890/890 [==============================] - 400s 428ms/step - loss: 0.6155 - binary_accuracy: 0.7499 - val_loss: 0.6411 - val_binary_accuracy: 0.7502\n",
            "Epoch 2/30\n",
            "890/890 [==============================] - ETA: 0s - loss: 0.5772 - binary_accuracy: 0.7781\n",
            "Epoch 2: val_loss improved from 0.64110 to 0.58592, saving model to /content/gdrive/My Drive/Flatiron/models/densenet256x256_weighted_tuned.hdf5\n",
            "890/890 [==============================] - 378s 425ms/step - loss: 0.5772 - binary_accuracy: 0.7781 - val_loss: 0.5859 - val_binary_accuracy: 0.7758\n",
            "Epoch 3/30\n",
            "890/890 [==============================] - ETA: 0s - loss: 0.5547 - binary_accuracy: 0.7893\n",
            "Epoch 3: val_loss improved from 0.58592 to 0.51620, saving model to /content/gdrive/My Drive/Flatiron/models/densenet256x256_weighted_tuned.hdf5\n",
            "890/890 [==============================] - 378s 425ms/step - loss: 0.5547 - binary_accuracy: 0.7893 - val_loss: 0.5162 - val_binary_accuracy: 0.7951\n",
            "Epoch 4/30\n",
            "890/890 [==============================] - ETA: 0s - loss: 0.5407 - binary_accuracy: 0.7984\n",
            "Epoch 4: val_loss did not improve from 0.51620\n",
            "890/890 [==============================] - 374s 420ms/step - loss: 0.5407 - binary_accuracy: 0.7984 - val_loss: 0.5242 - val_binary_accuracy: 0.8099\n",
            "Epoch 5/30\n",
            "890/890 [==============================] - ETA: 0s - loss: 0.5238 - binary_accuracy: 0.8039\n",
            "Epoch 5: val_loss improved from 0.51620 to 0.50911, saving model to /content/gdrive/My Drive/Flatiron/models/densenet256x256_weighted_tuned.hdf5\n",
            "890/890 [==============================] - 378s 425ms/step - loss: 0.5238 - binary_accuracy: 0.8039 - val_loss: 0.5091 - val_binary_accuracy: 0.8131\n",
            "Epoch 6/30\n",
            "890/890 [==============================] - ETA: 0s - loss: 0.5115 - binary_accuracy: 0.8110\n",
            "Epoch 6: val_loss improved from 0.50911 to 0.49408, saving model to /content/gdrive/My Drive/Flatiron/models/densenet256x256_weighted_tuned.hdf5\n",
            "890/890 [==============================] - 378s 424ms/step - loss: 0.5115 - binary_accuracy: 0.8110 - val_loss: 0.4941 - val_binary_accuracy: 0.8178\n",
            "Epoch 7/30\n",
            "890/890 [==============================] - ETA: 0s - loss: 0.5023 - binary_accuracy: 0.8167\n",
            "Epoch 7: val_loss improved from 0.49408 to 0.45356, saving model to /content/gdrive/My Drive/Flatiron/models/densenet256x256_weighted_tuned.hdf5\n",
            "890/890 [==============================] - 378s 425ms/step - loss: 0.5023 - binary_accuracy: 0.8167 - val_loss: 0.4536 - val_binary_accuracy: 0.8232\n",
            "Epoch 8/30\n",
            "890/890 [==============================] - ETA: 0s - loss: 0.4913 - binary_accuracy: 0.8203\n",
            "Epoch 8: val_loss improved from 0.45356 to 0.44059, saving model to /content/gdrive/My Drive/Flatiron/models/densenet256x256_weighted_tuned.hdf5\n",
            "890/890 [==============================] - 378s 425ms/step - loss: 0.4913 - binary_accuracy: 0.8203 - val_loss: 0.4406 - val_binary_accuracy: 0.8216\n",
            "Epoch 9/30\n",
            "890/890 [==============================] - ETA: 0s - loss: 0.4778 - binary_accuracy: 0.8248\n",
            "Epoch 9: val_loss did not improve from 0.44059\n",
            "890/890 [==============================] - 374s 420ms/step - loss: 0.4778 - binary_accuracy: 0.8248 - val_loss: 0.4805 - val_binary_accuracy: 0.8194\n",
            "Epoch 10/30\n",
            "890/890 [==============================] - ETA: 0s - loss: 0.4696 - binary_accuracy: 0.8308\n",
            "Epoch 10: val_loss did not improve from 0.44059\n",
            "890/890 [==============================] - 373s 420ms/step - loss: 0.4696 - binary_accuracy: 0.8308 - val_loss: 0.4787 - val_binary_accuracy: 0.8283\n",
            "Epoch 11/30\n",
            "890/890 [==============================] - ETA: 0s - loss: 0.4597 - binary_accuracy: 0.8333\n",
            "Epoch 11: val_loss did not improve from 0.44059\n",
            "890/890 [==============================] - 374s 420ms/step - loss: 0.4597 - binary_accuracy: 0.8333 - val_loss: 0.4718 - val_binary_accuracy: 0.8235\n",
            "Epoch 12/30\n",
            "890/890 [==============================] - ETA: 0s - loss: 0.4486 - binary_accuracy: 0.8379\n",
            "Epoch 12: val_loss did not improve from 0.44059\n",
            "890/890 [==============================] - 373s 420ms/step - loss: 0.4486 - binary_accuracy: 0.8379 - val_loss: 0.5016 - val_binary_accuracy: 0.8172\n",
            "Epoch 13/30\n",
            "890/890 [==============================] - ETA: 0s - loss: 0.4383 - binary_accuracy: 0.8414\n",
            "Epoch 13: val_loss did not improve from 0.44059\n",
            "890/890 [==============================] - 373s 420ms/step - loss: 0.4383 - binary_accuracy: 0.8414 - val_loss: 0.4616 - val_binary_accuracy: 0.8280\n",
            "Epoch 14/30\n",
            "890/890 [==============================] - ETA: 0s - loss: 0.4267 - binary_accuracy: 0.8449\n",
            "Epoch 14: val_loss did not improve from 0.44059\n",
            "890/890 [==============================] - 373s 420ms/step - loss: 0.4267 - binary_accuracy: 0.8449 - val_loss: 0.4514 - val_binary_accuracy: 0.8273\n",
            "Epoch 15/30\n",
            "890/890 [==============================] - ETA: 0s - loss: 0.4164 - binary_accuracy: 0.8513\n",
            "Epoch 15: val_loss improved from 0.44059 to 0.42595, saving model to /content/gdrive/My Drive/Flatiron/models/densenet256x256_weighted_tuned.hdf5\n",
            "890/890 [==============================] - 378s 424ms/step - loss: 0.4164 - binary_accuracy: 0.8513 - val_loss: 0.4259 - val_binary_accuracy: 0.8276\n",
            "Epoch 16/30\n",
            "890/890 [==============================] - ETA: 0s - loss: 0.4014 - binary_accuracy: 0.8568\n",
            "Epoch 16: val_loss did not improve from 0.42595\n",
            "890/890 [==============================] - 374s 420ms/step - loss: 0.4014 - binary_accuracy: 0.8568 - val_loss: 0.4662 - val_binary_accuracy: 0.8245\n",
            "Epoch 17/30\n",
            "890/890 [==============================] - ETA: 0s - loss: 0.3939 - binary_accuracy: 0.8578\n",
            "Epoch 17: val_loss did not improve from 0.42595\n",
            "890/890 [==============================] - 373s 420ms/step - loss: 0.3939 - binary_accuracy: 0.8578 - val_loss: 0.5047 - val_binary_accuracy: 0.8159\n",
            "Epoch 18/30\n",
            "890/890 [==============================] - ETA: 0s - loss: 0.3813 - binary_accuracy: 0.8621\n",
            "Epoch 18: val_loss did not improve from 0.42595\n",
            "890/890 [==============================] - 373s 420ms/step - loss: 0.3813 - binary_accuracy: 0.8621 - val_loss: 0.4942 - val_binary_accuracy: 0.8121\n",
            "Epoch 19/30\n",
            "890/890 [==============================] - ETA: 0s - loss: 0.3716 - binary_accuracy: 0.8688\n",
            "Epoch 19: val_loss did not improve from 0.42595\n",
            "890/890 [==============================] - 373s 419ms/step - loss: 0.3716 - binary_accuracy: 0.8688 - val_loss: 0.4684 - val_binary_accuracy: 0.8232\n",
            "Epoch 20/30\n",
            "890/890 [==============================] - ETA: 0s - loss: 0.3590 - binary_accuracy: 0.8700\n",
            "Epoch 20: val_loss did not improve from 0.42595\n",
            "890/890 [==============================] - 373s 420ms/step - loss: 0.3590 - binary_accuracy: 0.8700 - val_loss: 0.5457 - val_binary_accuracy: 0.7966\n",
            "Epoch 21/30\n",
            "890/890 [==============================] - ETA: 0s - loss: 0.3525 - binary_accuracy: 0.8727\n",
            "Epoch 21: val_loss did not improve from 0.42595\n",
            "890/890 [==============================] - 373s 420ms/step - loss: 0.3525 - binary_accuracy: 0.8727 - val_loss: 0.4616 - val_binary_accuracy: 0.8226\n",
            "Epoch 22/30\n",
            "890/890 [==============================] - ETA: 0s - loss: 0.3388 - binary_accuracy: 0.8787\n",
            "Epoch 22: val_loss did not improve from 0.42595\n",
            "890/890 [==============================] - 373s 420ms/step - loss: 0.3388 - binary_accuracy: 0.8787 - val_loss: 0.4623 - val_binary_accuracy: 0.8251\n",
            "Epoch 23/30\n",
            "890/890 [==============================] - ETA: 0s - loss: 0.3266 - binary_accuracy: 0.8826\n",
            "Epoch 23: val_loss did not improve from 0.42595\n",
            "890/890 [==============================] - 374s 420ms/step - loss: 0.3266 - binary_accuracy: 0.8826 - val_loss: 0.4881 - val_binary_accuracy: 0.8156\n",
            "Epoch 24/30\n",
            "890/890 [==============================] - ETA: 0s - loss: 0.3117 - binary_accuracy: 0.8882\n",
            "Epoch 24: val_loss did not improve from 0.42595\n",
            "890/890 [==============================] - 374s 420ms/step - loss: 0.3117 - binary_accuracy: 0.8882 - val_loss: 0.4725 - val_binary_accuracy: 0.8219\n",
            "Epoch 25/30\n",
            "890/890 [==============================] - ETA: 0s - loss: 0.2969 - binary_accuracy: 0.8936\n",
            "Epoch 25: val_loss did not improve from 0.42595\n",
            "890/890 [==============================] - 373s 420ms/step - loss: 0.2969 - binary_accuracy: 0.8936 - val_loss: 0.5271 - val_binary_accuracy: 0.8163\n",
            "Epoch 26/30\n",
            "890/890 [==============================] - ETA: 0s - loss: 0.2917 - binary_accuracy: 0.8965\n",
            "Epoch 26: val_loss did not improve from 0.42595\n",
            "890/890 [==============================] - 374s 420ms/step - loss: 0.2917 - binary_accuracy: 0.8965 - val_loss: 0.5227 - val_binary_accuracy: 0.8163\n",
            "Epoch 27/30\n",
            "890/890 [==============================] - ETA: 0s - loss: 0.2796 - binary_accuracy: 0.9015\n",
            "Epoch 27: val_loss did not improve from 0.42595\n",
            "890/890 [==============================] - 373s 420ms/step - loss: 0.2796 - binary_accuracy: 0.9015 - val_loss: 0.5134 - val_binary_accuracy: 0.8216\n",
            "Epoch 28/30\n",
            "890/890 [==============================] - ETA: 0s - loss: 0.2660 - binary_accuracy: 0.9032\n",
            "Epoch 28: val_loss did not improve from 0.42595\n",
            "890/890 [==============================] - 374s 420ms/step - loss: 0.2660 - binary_accuracy: 0.9032 - val_loss: 0.5552 - val_binary_accuracy: 0.8049\n",
            "Epoch 29/30\n",
            "890/890 [==============================] - ETA: 0s - loss: 0.2616 - binary_accuracy: 0.9045\n",
            "Epoch 29: val_loss did not improve from 0.42595\n",
            "890/890 [==============================] - 373s 419ms/step - loss: 0.2616 - binary_accuracy: 0.9045 - val_loss: 0.5213 - val_binary_accuracy: 0.8226\n",
            "Epoch 30/30\n",
            "890/890 [==============================] - ETA: 0s - loss: 0.2544 - binary_accuracy: 0.9073\n",
            "Epoch 30: val_loss did not improve from 0.42595\n",
            "890/890 [==============================] - 374s 420ms/step - loss: 0.2544 - binary_accuracy: 0.9073 - val_loss: 0.5235 - val_binary_accuracy: 0.8248\n"
          ]
        },
        {
          "output_type": "execute_result",
          "data": {
            "text/plain": [
              "<keras.callbacks.History at 0x7f79355b9690>"
            ]
          },
          "metadata": {},
          "execution_count": 28
        }
      ],
      "source": [
        "base_model.trainable = True\n",
        "model.summary()\n",
        "\n",
        "epochs = 30\n",
        "\n",
        "filepath = '/content/gdrive/My Drive/Flatiron/models/densenet256x256_weighted_tuned.hdf5'\n",
        "\n",
        "callbacks = ModelCheckpoint(filepath=filepath, \n",
        "                             monitor='val_loss',\n",
        "                             verbose=1, \n",
        "                             save_best_only=True,\n",
        "                             mode='min')\n",
        "\n",
        "model.compile(\n",
        "    optimizer=keras.optimizers.Adam(1e-5),\n",
        "    loss=keras.losses.BinaryCrossentropy(from_logits=True),\n",
        "    metrics=[keras.metrics.BinaryAccuracy()],\n",
        ")\n",
        "\n",
        "model.fit(\n",
        "    train_ds, epochs=epochs, callbacks=callbacks, validation_data=val_ds, class_weight=weight,\n",
        ")"
      ],
      "id": "Jx81Y5jZe2LM"
    },
    {
      "cell_type": "code",
      "source": [
        "load_file = '/content/gdrive/My Drive/Flatiron/models/densenet256x256_weighted_tuned.hdf5'\n",
        "base_model = load_model(load_file)\n",
        "base_model.evaluate(test_ds)"
      ],
      "metadata": {
        "id": "Z_uN41gRe2LM",
        "colab": {
          "base_uri": "https://localhost:8080/"
        },
        "outputId": "5b346b07-34d0-40ec-bd86-c3a6e626b428"
      },
      "execution_count": null,
      "outputs": [
        {
          "output_type": "stream",
          "name": "stdout",
          "text": [
            "110/110 [==============================] - 154s 1s/step - loss: 0.4307 - binary_accuracy: 0.8218\n"
          ]
        },
        {
          "output_type": "execute_result",
          "data": {
            "text/plain": [
              "[0.43069207668304443, 0.8218047022819519]"
            ]
          },
          "metadata": {},
          "execution_count": 29
        }
      ],
      "id": "Z_uN41gRe2LM"
    },
    {
      "cell_type": "code",
      "source": [
        "pred = base_model.predict(test_ds)"
      ],
      "metadata": {
        "id": "y-sjts5SZDOE"
      },
      "id": "y-sjts5SZDOE",
      "execution_count": null,
      "outputs": []
    },
    {
      "cell_type": "code",
      "source": [
        "pred_transformed = np.exp(pred)/(1+np.exp(pred))"
      ],
      "metadata": {
        "id": "xv-EK3Doe2LM"
      },
      "execution_count": null,
      "outputs": [],
      "id": "xv-EK3Doe2LM"
    },
    {
      "cell_type": "code",
      "source": [
        ""
      ],
      "metadata": {
        "id": "Wtz91V-4e2LM"
      },
      "execution_count": null,
      "outputs": [],
      "id": "Wtz91V-4e2LM"
    },
    {
      "cell_type": "code",
      "source": [
        "preds = np.where(pred_transformed>0.5, 1,0)#if probability is less than .5 assign 0 if greater than 0 assign 1\n",
        "cm  = confusion_matrix(test_reshaped, preds)"
      ],
      "metadata": {
        "id": "R1ppeVfye2LN"
      },
      "execution_count": null,
      "outputs": [],
      "id": "R1ppeVfye2LN"
    },
    {
      "cell_type": "code",
      "source": [
        "group_names = ['True Neg','False Pos','False Neg','True Pos']\n",
        "categories = ['Normal', 'Diabetic Retinopathy']\n",
        "\n",
        "group_counts_1 = ['{0:0.0f}'.format(value) for value in cm.flatten()]\n",
        "labels_1 = [f'{v1}\\n{v2}' for v1, v2 in zip(group_names,group_counts_1)]\n",
        "labels_1 = np.asarray(labels_1).reshape(2,2)\n",
        "\n",
        "sns.set_context('talk')\n",
        "fig, ax= plt.subplots(figsize=(8,6))\n",
        "\n",
        "sns.heatmap(cm, annot=labels_1, xticklabels=categories, yticklabels=categories, cbar=None, fmt='', cmap='Blues', ax=ax)\n",
        "ax.set_ylabel('Actual')\n",
        "ax.set_yticklabels(ax.get_yticklabels(), va=\"center\")\n",
        "ax.set_xlabel('Predicted')\n",
        "ax.set_title('Densenet')"
      ],
      "metadata": {
        "colab": {
          "base_uri": "https://localhost:8080/",
          "height": 447
        },
        "outputId": "ecc6f793-19bd-476b-a49c-e73e7b4dff2c",
        "id": "X2gReq67e2LN"
      },
      "execution_count": null,
      "outputs": [
        {
          "output_type": "execute_result",
          "data": {
            "text/plain": [
              "Text(0.5, 1.0, 'Densenet')"
            ]
          },
          "metadata": {},
          "execution_count": 46
        },
        {
          "output_type": "display_data",
          "data": {
            "image/png": "[encoded data removed]",
            "text/plain": [
              "<Figure size 576x432 with 1 Axes>"
            ]
          },
          "metadata": {
            "needs_background": "light"
          }
        }
      ],
      "id": "X2gReq67e2LN"
    },
    {
      "cell_type": "code",
      "source": [
        "print(f'Recall:    {recall_score(test_reshaped, preds)}')\n",
        "print(f'Precision: {precision_score(test_reshaped, preds)}')\n",
        "print(f'Accuracy:  {accuracy_score(test_reshaped, preds)}')\n",
        "print(f'F1 score:  {f1_score(test_reshaped, preds)}')\n",
        "print(f'AUROC:     {roc_auc_score(test_reshaped, pred)}')"
      ],
      "metadata": {
        "colab": {
          "base_uri": "https://localhost:8080/"
        },
        "outputId": "8b229041-e04d-4813-aeb9-f9edfbcbafeb",
        "id": "L3RZrUvIe2LN"
      },
      "execution_count": null,
      "outputs": [
        {
          "output_type": "stream",
          "name": "stdout",
          "text": [
            "Recall:    0.13733905579399142\n",
            "Precision: 0.28507795100222716\n",
            "Accuracy:  0.6797608881298036\n",
            "F1 score:  0.18537291817523532\n",
            "AUROC:     0.5126643530720534\n"
          ]
        }
      ],
      "id": "L3RZrUvIe2LN"
    },
    {
      "cell_type": "markdown",
      "metadata": {
        "id": "a467b7a3"
      },
      "source": [
        ""
      ],
      "id": "a467b7a3"
    }
  ],
  "metadata": {
    "accelerator": "GPU",
    "colab": {
      "collapsed_sections": [],
      "machine_shape": "hm",
      "name": "Densenet256x256_model.ipynb",
      "provenance": [],
      "background_execution": "on",
      "include_colab_link": true
    },
    "interpreter": {
      "hash": "d2f5a53b1e33a43d9b2d948d9a196b70d8d8637641a555647cecaa854bbb4499"
    },
    "kernelspec": {
      "display_name": "Python 3.8.12 ('learn-env')",
      "language": "python",
      "name": "python3"
    },
    "language_info": {
      "codemirror_mode": {
        "name": "ipython",
        "version": 3
      },
      "file_extension": ".py",
      "mimetype": "text/x-python",
      "name": "python",
      "nbconvert_exporter": "python",
      "pygments_lexer": "ipython3",
      "version": "3.8.12"
    }
  },
  "nbformat": 4,
  "nbformat_minor": 5
}