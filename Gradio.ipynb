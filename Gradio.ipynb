{
 "cells": [
  {
   "cell_type": "code",
   "execution_count": 1,
   "id": "e409628b-7058-4cb1-b19a-3588517b959f",
   "metadata": {},
   "outputs": [],
   "source": [
    "!pip install -q gradio"
   ]
  },
  {
   "cell_type": "code",
   "execution_count": null,
   "id": "12d08de6",
   "metadata": {},
   "outputs": [],
   "source": [
    "import requests\n",
    "import tensorflow as tf\n",
    "from tensorflow import keras\n",
    "from keras.models import Sequential, load_model\n",
    "from tensorflow.keras.models import Sequential\n",
    "from tensorflow.keras.layers import Activation, Dense, BatchNormalization, Conv2D, MaxPool2D, Dropout, Flatten\n",
    "from tensorflow.keras.optimizers import Adam\n",
    "from tensorflow.keras.metrics import categorical_crossentropy\n",
    "from tensorflow.keras.preprocessing.image import ImageDataGenerator, load_img, array_to_img, img_to_array\n",
    "from tensorflow.keras import datasets, layers, models\n",
    "\n",
    "import pandas as pd\n",
    "import numpy as np\n",
    "\n",
    "import gradio as gr\n",
    "\n",
    "load_file = 'densenet256x256_weighted_tuned.hdf5'\n",
    "model=load_model(load_file)\n",
    "\n",
    "\n",
    "img_resize = keras.Sequential(\n",
    "    [\n",
    "        layers.experimental.preprocessing.Resizing(256, 256, interpolation='bilinear')\n",
    "    ]\n",
    ")\n",
    "\n",
    "def classify_image(inp):\n",
    "    inp = img_resize(inp)\n",
    "    img_array = keras.preprocessing.image.img_to_array(inp)\n",
    "    img_array = tf.expand_dims(img_array, 0)\n",
    "\n",
    "    prediction = model.predict(img_array).flatten()\n",
    "    return {'Probability of Diabetic Retinopathy:': float(np.exp(prediction)/(1+np.exp(prediction)))} #{labels[i]: float(prediction[i]) for i in range(1)}\n",
    "\n",
    "content_image_input = gr.inputs.Image(label=\"Content Image\")\n",
    "style_image_input = gr.inputs.Image(shape=(256, 256), label=\"Style Image\")\n",
    "\n",
    "image = gr.inputs.Image(label = 'Image')\n",
    "label = gr.outputs.Label(num_top_classes=1)\n",
    "\n",
    "explanation = 'The first two sample images both have DR and the model confidently predicts it correctly. The next two images are examples without DR that the model confidently predicts correctly. The 5th image has DR, but the model guesses incorrectly. The 6th image does not have DR, but the model guesses incorrectly.'\n",
    "\n",
    "gr.Interface(\n",
    "    fn=classify_image,\n",
    "    inputs= image,\n",
    "    title = 'Prediction of Diabetic Retinopathy (DR)', \n",
    "    examples_per_page = 6,\n",
    "    examples = ['DR100.jpeg', 'DR95.jpeg', 'Norm5.jpeg', 'Norm16.jpeg', 'DR8.jpeg', 'Norm95.jpeg' ],\n",
    "    description = 'Demo for predicting the probability of having Diabetic Retinopathy. This version is currently using a DenseNet Model.',\n",
    "    article = explanation,\n",
    "    outputs=label,\n",
    "    theme = \"peach\"\n",
    ").launch()"
   ]
  },
  {
   "cell_type": "markdown",
   "id": "c141e60e",
   "metadata": {},
   "source": [
    "Full folder and web demo can be found at https://huggingface.co/spaces/DataDoggo/Visionary"
   ]
  },
  {
   "cell_type": "markdown",
   "id": "c71d3635",
   "metadata": {},
   "source": []
  }
 ],
 "metadata": {
  "interpreter": {
   "hash": "d2f5a53b1e33a43d9b2d948d9a196b70d8d8637641a555647cecaa854bbb4499"
  },
  "kernelspec": {
   "display_name": "Python (learn-env)",
   "language": "python",
   "name": "python3"
  },
  "language_info": {
   "codemirror_mode": {
    "name": "ipython",
    "version": 3
   },
   "file_extension": ".py",
   "mimetype": "text/x-python",
   "name": "python",
   "nbconvert_exporter": "python",
   "pygments_lexer": "ipython3",
   "version": "3.9.7"
  }
 },
 "nbformat": 4,
 "nbformat_minor": 5
}
