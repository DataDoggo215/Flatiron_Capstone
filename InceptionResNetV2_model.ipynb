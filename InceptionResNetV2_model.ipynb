{
  "cells": [
    {
      "cell_type": "markdown",
      "metadata": {
        "id": "view-in-github",
        "colab_type": "text"
      },
      "source": [
        "<a href=\"https://colab.research.google.com/github/DataDoggo215/Flatiron_Capstone/blob/main/InceptionResNetV2_model.ipynb\" target=\"_parent\"><img src=\"https://colab.research.google.com/assets/colab-badge.svg\" alt=\"Open In Colab\"/></a>"
      ]
    },
    {
      "cell_type": "code",
      "execution_count": null,
      "metadata": {
        "id": "AKW023vdiA04"
      },
      "outputs": [],
      "source": [
        "import pandas as pd\n",
        "import numpy as np\n",
        "import matplotlib.pyplot as plt\n",
        "import matplotlib.image as mpimg\n",
        "import seaborn as sns\n",
        "%matplotlib inline\n",
        "\n",
        "import tensorflow as tf\n",
        "from tensorflow import keras\n",
        "from tensorflow.keras.models import Sequential\n",
        "from tensorflow.keras.layers import Activation, Dense, BatchNormalization, Conv2D, MaxPool2D, Dropout, Flatten\n",
        "from tensorflow.keras.optimizers import Adam\n",
        "from tensorflow.keras.metrics import categorical_crossentropy\n",
        "from tensorflow.keras.preprocessing.image import ImageDataGenerator, load_img, array_to_img, img_to_array\n",
        "from tensorflow.keras import datasets, layers, models\n",
        "from keras.callbacks import ModelCheckpoint\n",
        "from keras.models import Sequential, load_model\n",
        "from tensorflow.keras.callbacks import EarlyStopping, ModelCheckpoint, ReduceLROnPlateau\n",
        "\n",
        "from sklearn.model_selection import train_test_split\n",
        "from sklearn.metrics import confusion_matrix\n",
        "from sklearn.metrics import recall_score\n",
        "from sklearn.metrics import precision_score\n",
        "from sklearn.metrics import accuracy_score\n",
        "from sklearn.metrics import f1_score\n",
        "from sklearn.metrics import roc_auc_score\n",
        "\n",
        "import os, shutil\n",
        "\n",
        "from PIL import Image\n",
        "import PIL\n",
        "\n",
        "random_state = 112221"
      ],
      "id": "AKW023vdiA04"
    },
    {
      "cell_type": "code",
      "execution_count": null,
      "metadata": {
        "colab": {
          "base_uri": "https://localhost:8080/"
        },
        "id": "uMEHhTt4iOul",
        "outputId": "e13afb22-d304-400f-ad42-dc1dda8cb816"
      },
      "outputs": [
        {
          "output_type": "stream",
          "name": "stdout",
          "text": [
            "Mounted at /content/gdrive\n"
          ]
        }
      ],
      "source": [
        "#Mount to Google Drive\n",
        "from google.colab import drive\n",
        "drive.mount('/content/gdrive')"
      ],
      "id": "uMEHhTt4iOul"
    },
    {
      "cell_type": "code",
      "execution_count": null,
      "metadata": {
        "colab": {
          "base_uri": "https://localhost:8080/"
        },
        "id": "cqBFFGCYGHxI",
        "outputId": "947751e4-895f-4e67-d411-79cbcb9ebe44"
      },
      "outputs": [
        {
          "output_type": "stream",
          "name": "stdout",
          "text": [
            "Found GPU at: /device:GPU:0\n"
          ]
        }
      ],
      "source": [
        "#check google GPU\n",
        "%tensorflow_version 2.x\n",
        "import tensorflow as tf\n",
        "device_name = tf.test.gpu_device_name()\n",
        "if device_name != '/device:GPU:0':\n",
        "  raise SystemError('GPU device not found')\n",
        "print('Found GPU at: {}'.format(device_name))"
      ],
      "id": "cqBFFGCYGHxI"
    },
    {
      "cell_type": "code",
      "source": [
        "%tensorflow_version 2.x\n",
        "import tensorflow as tf\n",
        "print(\"Tensorflow version \" + tf.__version__)\n",
        "\n",
        "try:\n",
        "  tpu = tf.distribute.cluster_resolver.TPUClusterResolver()  # TPU detection\n",
        "  print('Running on TPU ', tpu.cluster_spec().as_dict()['worker'])\n",
        "except ValueError:\n",
        "  raise BaseException('ERROR: Not connected to a TPU runtime; please see the previous cell in this notebook for instructions!')\n",
        "\n",
        "tf.config.experimental_connect_to_cluster(tpu)\n",
        "tf.tpu.experimental.initialize_tpu_system(tpu)\n",
        "tpu_strategy = tf.distribute.experimental.TPUStrategy(tpu)"
      ],
      "metadata": {
        "colab": {
          "base_uri": "https://localhost:8080/"
        },
        "id": "YtcyQslkSIZ2",
        "outputId": "9c01f54b-d379-4b00-e8c2-5043f70450aa"
      },
      "id": "YtcyQslkSIZ2",
      "execution_count": null,
      "outputs": [
        {
          "output_type": "stream",
          "name": "stdout",
          "text": [
            "Tensorflow version 2.8.0\n",
            "Running on TPU  ['10.10.178.226:8470']\n",
            "INFO:tensorflow:Deallocate tpu buffers before initializing tpu system.\n"
          ]
        },
        {
          "output_type": "stream",
          "name": "stderr",
          "text": [
            "INFO:tensorflow:Deallocate tpu buffers before initializing tpu system.\n"
          ]
        },
        {
          "output_type": "stream",
          "name": "stdout",
          "text": [
            "INFO:tensorflow:Initializing the TPU system: grpc://10.10.178.226:8470\n"
          ]
        },
        {
          "output_type": "stream",
          "name": "stderr",
          "text": [
            "INFO:tensorflow:Initializing the TPU system: grpc://10.10.178.226:8470\n"
          ]
        },
        {
          "output_type": "stream",
          "name": "stdout",
          "text": [
            "INFO:tensorflow:Finished initializing TPU system.\n"
          ]
        },
        {
          "output_type": "stream",
          "name": "stderr",
          "text": [
            "INFO:tensorflow:Finished initializing TPU system.\n",
            "WARNING:absl:`tf.distribute.experimental.TPUStrategy` is deprecated, please use  the non experimental symbol `tf.distribute.TPUStrategy` instead.\n"
          ]
        },
        {
          "output_type": "stream",
          "name": "stdout",
          "text": [
            "INFO:tensorflow:Found TPU system:\n"
          ]
        },
        {
          "output_type": "stream",
          "name": "stderr",
          "text": [
            "INFO:tensorflow:Found TPU system:\n"
          ]
        },
        {
          "output_type": "stream",
          "name": "stdout",
          "text": [
            "INFO:tensorflow:*** Num TPU Cores: 8\n"
          ]
        },
        {
          "output_type": "stream",
          "name": "stderr",
          "text": [
            "INFO:tensorflow:*** Num TPU Cores: 8\n"
          ]
        },
        {
          "output_type": "stream",
          "name": "stdout",
          "text": [
            "INFO:tensorflow:*** Num TPU Workers: 1\n"
          ]
        },
        {
          "output_type": "stream",
          "name": "stderr",
          "text": [
            "INFO:tensorflow:*** Num TPU Workers: 1\n"
          ]
        },
        {
          "output_type": "stream",
          "name": "stdout",
          "text": [
            "INFO:tensorflow:*** Num TPU Cores Per Worker: 8\n"
          ]
        },
        {
          "output_type": "stream",
          "name": "stderr",
          "text": [
            "INFO:tensorflow:*** Num TPU Cores Per Worker: 8\n"
          ]
        },
        {
          "output_type": "stream",
          "name": "stdout",
          "text": [
            "INFO:tensorflow:*** Available Device: _DeviceAttributes(/job:localhost/replica:0/task:0/device:CPU:0, CPU, 0, 0)\n"
          ]
        },
        {
          "output_type": "stream",
          "name": "stderr",
          "text": [
            "INFO:tensorflow:*** Available Device: _DeviceAttributes(/job:localhost/replica:0/task:0/device:CPU:0, CPU, 0, 0)\n"
          ]
        },
        {
          "output_type": "stream",
          "name": "stdout",
          "text": [
            "INFO:tensorflow:*** Available Device: _DeviceAttributes(/job:worker/replica:0/task:0/device:CPU:0, CPU, 0, 0)\n"
          ]
        },
        {
          "output_type": "stream",
          "name": "stderr",
          "text": [
            "INFO:tensorflow:*** Available Device: _DeviceAttributes(/job:worker/replica:0/task:0/device:CPU:0, CPU, 0, 0)\n"
          ]
        },
        {
          "output_type": "stream",
          "name": "stdout",
          "text": [
            "INFO:tensorflow:*** Available Device: _DeviceAttributes(/job:worker/replica:0/task:0/device:TPU:0, TPU, 0, 0)\n"
          ]
        },
        {
          "output_type": "stream",
          "name": "stderr",
          "text": [
            "INFO:tensorflow:*** Available Device: _DeviceAttributes(/job:worker/replica:0/task:0/device:TPU:0, TPU, 0, 0)\n"
          ]
        },
        {
          "output_type": "stream",
          "name": "stdout",
          "text": [
            "INFO:tensorflow:*** Available Device: _DeviceAttributes(/job:worker/replica:0/task:0/device:TPU:1, TPU, 0, 0)\n"
          ]
        },
        {
          "output_type": "stream",
          "name": "stderr",
          "text": [
            "INFO:tensorflow:*** Available Device: _DeviceAttributes(/job:worker/replica:0/task:0/device:TPU:1, TPU, 0, 0)\n"
          ]
        },
        {
          "output_type": "stream",
          "name": "stdout",
          "text": [
            "INFO:tensorflow:*** Available Device: _DeviceAttributes(/job:worker/replica:0/task:0/device:TPU:2, TPU, 0, 0)\n"
          ]
        },
        {
          "output_type": "stream",
          "name": "stderr",
          "text": [
            "INFO:tensorflow:*** Available Device: _DeviceAttributes(/job:worker/replica:0/task:0/device:TPU:2, TPU, 0, 0)\n"
          ]
        },
        {
          "output_type": "stream",
          "name": "stdout",
          "text": [
            "INFO:tensorflow:*** Available Device: _DeviceAttributes(/job:worker/replica:0/task:0/device:TPU:3, TPU, 0, 0)\n"
          ]
        },
        {
          "output_type": "stream",
          "name": "stderr",
          "text": [
            "INFO:tensorflow:*** Available Device: _DeviceAttributes(/job:worker/replica:0/task:0/device:TPU:3, TPU, 0, 0)\n"
          ]
        },
        {
          "output_type": "stream",
          "name": "stdout",
          "text": [
            "INFO:tensorflow:*** Available Device: _DeviceAttributes(/job:worker/replica:0/task:0/device:TPU:4, TPU, 0, 0)\n"
          ]
        },
        {
          "output_type": "stream",
          "name": "stderr",
          "text": [
            "INFO:tensorflow:*** Available Device: _DeviceAttributes(/job:worker/replica:0/task:0/device:TPU:4, TPU, 0, 0)\n"
          ]
        },
        {
          "output_type": "stream",
          "name": "stdout",
          "text": [
            "INFO:tensorflow:*** Available Device: _DeviceAttributes(/job:worker/replica:0/task:0/device:TPU:5, TPU, 0, 0)\n"
          ]
        },
        {
          "output_type": "stream",
          "name": "stderr",
          "text": [
            "INFO:tensorflow:*** Available Device: _DeviceAttributes(/job:worker/replica:0/task:0/device:TPU:5, TPU, 0, 0)\n"
          ]
        },
        {
          "output_type": "stream",
          "name": "stdout",
          "text": [
            "INFO:tensorflow:*** Available Device: _DeviceAttributes(/job:worker/replica:0/task:0/device:TPU:6, TPU, 0, 0)\n"
          ]
        },
        {
          "output_type": "stream",
          "name": "stderr",
          "text": [
            "INFO:tensorflow:*** Available Device: _DeviceAttributes(/job:worker/replica:0/task:0/device:TPU:6, TPU, 0, 0)\n"
          ]
        },
        {
          "output_type": "stream",
          "name": "stdout",
          "text": [
            "INFO:tensorflow:*** Available Device: _DeviceAttributes(/job:worker/replica:0/task:0/device:TPU:7, TPU, 0, 0)\n"
          ]
        },
        {
          "output_type": "stream",
          "name": "stderr",
          "text": [
            "INFO:tensorflow:*** Available Device: _DeviceAttributes(/job:worker/replica:0/task:0/device:TPU:7, TPU, 0, 0)\n"
          ]
        },
        {
          "output_type": "stream",
          "name": "stdout",
          "text": [
            "INFO:tensorflow:*** Available Device: _DeviceAttributes(/job:worker/replica:0/task:0/device:TPU_SYSTEM:0, TPU_SYSTEM, 0, 0)\n"
          ]
        },
        {
          "output_type": "stream",
          "name": "stderr",
          "text": [
            "INFO:tensorflow:*** Available Device: _DeviceAttributes(/job:worker/replica:0/task:0/device:TPU_SYSTEM:0, TPU_SYSTEM, 0, 0)\n"
          ]
        },
        {
          "output_type": "stream",
          "name": "stdout",
          "text": [
            "INFO:tensorflow:*** Available Device: _DeviceAttributes(/job:worker/replica:0/task:0/device:XLA_CPU:0, XLA_CPU, 0, 0)\n"
          ]
        },
        {
          "output_type": "stream",
          "name": "stderr",
          "text": [
            "INFO:tensorflow:*** Available Device: _DeviceAttributes(/job:worker/replica:0/task:0/device:XLA_CPU:0, XLA_CPU, 0, 0)\n"
          ]
        }
      ]
    },
    {
      "cell_type": "markdown",
      "source": [
        "#Business Understanding"
      ],
      "metadata": {
        "id": "LAXeifP7kS_v"
      },
      "id": "LAXeifP7kS_v"
    },
    {
      "cell_type": "markdown",
      "source": [
        ""
      ],
      "metadata": {
        "id": "CTIYDv30k03m"
      },
      "id": "CTIYDv30k03m"
    },
    {
      "cell_type": "markdown",
      "metadata": {
        "id": "0cfb26e7"
      },
      "source": [
        "# EDA"
      ],
      "id": "0cfb26e7"
    },
    {
      "cell_type": "code",
      "execution_count": null,
      "metadata": {
        "colab": {
          "base_uri": "https://localhost:8080/",
          "height": 423
        },
        "id": "Ynf7zTnX71VV",
        "outputId": "410f78a3-3f3d-4368-c2e9-2a247610bc88"
      },
      "outputs": [
        {
          "output_type": "execute_result",
          "data": {
            "text/html": [
              "\n",
              "  <div id=\"df-fc7095fd-cb84-4ab9-923f-312ef7ac93ec\">\n",
              "    <div class=\"colab-df-container\">\n",
              "      <div>\n",
              "<style scoped>\n",
              "    .dataframe tbody tr th:only-of-type {\n",
              "        vertical-align: middle;\n",
              "    }\n",
              "\n",
              "    .dataframe tbody tr th {\n",
              "        vertical-align: top;\n",
              "    }\n",
              "\n",
              "    .dataframe thead th {\n",
              "        text-align: right;\n",
              "    }\n",
              "</style>\n",
              "<table border=\"1\" class=\"dataframe\">\n",
              "  <thead>\n",
              "    <tr style=\"text-align: right;\">\n",
              "      <th></th>\n",
              "      <th>image</th>\n",
              "      <th>level</th>\n",
              "    </tr>\n",
              "  </thead>\n",
              "  <tbody>\n",
              "    <tr>\n",
              "      <th>0</th>\n",
              "      <td>10_left</td>\n",
              "      <td>0</td>\n",
              "    </tr>\n",
              "    <tr>\n",
              "      <th>1</th>\n",
              "      <td>10_right</td>\n",
              "      <td>0</td>\n",
              "    </tr>\n",
              "    <tr>\n",
              "      <th>2</th>\n",
              "      <td>13_left</td>\n",
              "      <td>0</td>\n",
              "    </tr>\n",
              "    <tr>\n",
              "      <th>3</th>\n",
              "      <td>13_right</td>\n",
              "      <td>0</td>\n",
              "    </tr>\n",
              "    <tr>\n",
              "      <th>4</th>\n",
              "      <td>15_left</td>\n",
              "      <td>1</td>\n",
              "    </tr>\n",
              "    <tr>\n",
              "      <th>...</th>\n",
              "      <td>...</td>\n",
              "      <td>...</td>\n",
              "    </tr>\n",
              "    <tr>\n",
              "      <th>35121</th>\n",
              "      <td>44347_right</td>\n",
              "      <td>0</td>\n",
              "    </tr>\n",
              "    <tr>\n",
              "      <th>35122</th>\n",
              "      <td>44348_left</td>\n",
              "      <td>0</td>\n",
              "    </tr>\n",
              "    <tr>\n",
              "      <th>35123</th>\n",
              "      <td>44348_right</td>\n",
              "      <td>0</td>\n",
              "    </tr>\n",
              "    <tr>\n",
              "      <th>35124</th>\n",
              "      <td>44349_left</td>\n",
              "      <td>0</td>\n",
              "    </tr>\n",
              "    <tr>\n",
              "      <th>35125</th>\n",
              "      <td>44349_right</td>\n",
              "      <td>1</td>\n",
              "    </tr>\n",
              "  </tbody>\n",
              "</table>\n",
              "<p>35126 rows × 2 columns</p>\n",
              "</div>\n",
              "      <button class=\"colab-df-convert\" onclick=\"convertToInteractive('df-fc7095fd-cb84-4ab9-923f-312ef7ac93ec')\"\n",
              "              title=\"Convert this dataframe to an interactive table.\"\n",
              "              style=\"display:none;\">\n",
              "        \n",
              "  <svg xmlns=\"http://www.w3.org/2000/svg\" height=\"24px\"viewBox=\"0 0 24 24\"\n",
              "       width=\"24px\">\n",
              "    <path d=\"M0 0h24v24H0V0z\" fill=\"none\"/>\n",
              "    <path d=\"M18.56 5.44l.94 2.06.94-2.06 2.06-.94-2.06-.94-.94-2.06-.94 2.06-2.06.94zm-11 1L8.5 8.5l.94-2.06 2.06-.94-2.06-.94L8.5 2.5l-.94 2.06-2.06.94zm10 10l.94 2.06.94-2.06 2.06-.94-2.06-.94-.94-2.06-.94 2.06-2.06.94z\"/><path d=\"M17.41 7.96l-1.37-1.37c-.4-.4-.92-.59-1.43-.59-.52 0-1.04.2-1.43.59L10.3 9.45l-7.72 7.72c-.78.78-.78 2.05 0 2.83L4 21.41c.39.39.9.59 1.41.59.51 0 1.02-.2 1.41-.59l7.78-7.78 2.81-2.81c.8-.78.8-2.07 0-2.86zM5.41 20L4 18.59l7.72-7.72 1.47 1.35L5.41 20z\"/>\n",
              "  </svg>\n",
              "      </button>\n",
              "      \n",
              "  <style>\n",
              "    .colab-df-container {\n",
              "      display:flex;\n",
              "      flex-wrap:wrap;\n",
              "      gap: 12px;\n",
              "    }\n",
              "\n",
              "    .colab-df-convert {\n",
              "      background-color: #E8F0FE;\n",
              "      border: none;\n",
              "      border-radius: 50%;\n",
              "      cursor: pointer;\n",
              "      display: none;\n",
              "      fill: #1967D2;\n",
              "      height: 32px;\n",
              "      padding: 0 0 0 0;\n",
              "      width: 32px;\n",
              "    }\n",
              "\n",
              "    .colab-df-convert:hover {\n",
              "      background-color: #E2EBFA;\n",
              "      box-shadow: 0px 1px 2px rgba(60, 64, 67, 0.3), 0px 1px 3px 1px rgba(60, 64, 67, 0.15);\n",
              "      fill: #174EA6;\n",
              "    }\n",
              "\n",
              "    [theme=dark] .colab-df-convert {\n",
              "      background-color: #3B4455;\n",
              "      fill: #D2E3FC;\n",
              "    }\n",
              "\n",
              "    [theme=dark] .colab-df-convert:hover {\n",
              "      background-color: #434B5C;\n",
              "      box-shadow: 0px 1px 3px 1px rgba(0, 0, 0, 0.15);\n",
              "      filter: drop-shadow(0px 1px 2px rgba(0, 0, 0, 0.3));\n",
              "      fill: #FFFFFF;\n",
              "    }\n",
              "  </style>\n",
              "\n",
              "      <script>\n",
              "        const buttonEl =\n",
              "          document.querySelector('#df-fc7095fd-cb84-4ab9-923f-312ef7ac93ec button.colab-df-convert');\n",
              "        buttonEl.style.display =\n",
              "          google.colab.kernel.accessAllowed ? 'block' : 'none';\n",
              "\n",
              "        async function convertToInteractive(key) {\n",
              "          const element = document.querySelector('#df-fc7095fd-cb84-4ab9-923f-312ef7ac93ec');\n",
              "          const dataTable =\n",
              "            await google.colab.kernel.invokeFunction('convertToInteractive',\n",
              "                                                     [key], {});\n",
              "          if (!dataTable) return;\n",
              "\n",
              "          const docLinkHtml = 'Like what you see? Visit the ' +\n",
              "            '<a target=\"_blank\" href=https://colab.research.google.com/notebooks/data_table.ipynb>data table notebook</a>'\n",
              "            + ' to learn more about interactive tables.';\n",
              "          element.innerHTML = '';\n",
              "          dataTable['output_type'] = 'display_data';\n",
              "          await google.colab.output.renderOutput(dataTable, element);\n",
              "          const docLink = document.createElement('div');\n",
              "          docLink.innerHTML = docLinkHtml;\n",
              "          element.appendChild(docLink);\n",
              "        }\n",
              "      </script>\n",
              "    </div>\n",
              "  </div>\n",
              "  "
            ],
            "text/plain": [
              "             image  level\n",
              "0          10_left      0\n",
              "1         10_right      0\n",
              "2          13_left      0\n",
              "3         13_right      0\n",
              "4          15_left      1\n",
              "...            ...    ...\n",
              "35121  44347_right      0\n",
              "35122   44348_left      0\n",
              "35123  44348_right      0\n",
              "35124   44349_left      0\n",
              "35125  44349_right      1\n",
              "\n",
              "[35126 rows x 2 columns]"
            ]
          },
          "metadata": {},
          "execution_count": 4
        }
      ],
      "source": [
        "#Upload and examine the train labels\n",
        "train_labels = pd.read_csv('/content/gdrive/My Drive/Flatiron/trainLabels.csv')\n",
        "train_labels"
      ],
      "id": "Ynf7zTnX71VV"
    },
    {
      "cell_type": "markdown",
      "source": [
        "We see that the labels have the image name attached, but the images itself. We can fix this by adding .jpeg file extension to the names. For our intended use case, we are also only interested if the patient has the disease or not. We can make this a binary classification problem."
      ],
      "metadata": {
        "id": "_Q-2HFlak8He"
      },
      "id": "_Q-2HFlak8He"
    },
    {
      "cell_type": "code",
      "execution_count": null,
      "metadata": {
        "id": "FJ8n7CQ171cI"
      },
      "outputs": [],
      "source": [
        "#Add image extensions\n",
        "train_labels['image'] = train_labels['image'] + '.jpeg'\n",
        "#Binary Classification\n",
        "train_labels['level'].replace([1,2,3,4], 1, inplace = True)\n",
        "train_labels['level'] = train_labels['level'].astype('str')"
      ],
      "id": "FJ8n7CQ171cI"
    },
    {
      "cell_type": "code",
      "source": [
        "train_labels"
      ],
      "metadata": {
        "colab": {
          "base_uri": "https://localhost:8080/",
          "height": 423
        },
        "id": "TkDCaT8jmYlW",
        "outputId": "4d655a71-dd3f-4006-ca9d-0ce1596c72bb"
      },
      "id": "TkDCaT8jmYlW",
      "execution_count": null,
      "outputs": [
        {
          "output_type": "execute_result",
          "data": {
            "text/html": [
              "\n",
              "  <div id=\"df-7cdb64ed-8538-4518-94c8-bb73af0a4769\">\n",
              "    <div class=\"colab-df-container\">\n",
              "      <div>\n",
              "<style scoped>\n",
              "    .dataframe tbody tr th:only-of-type {\n",
              "        vertical-align: middle;\n",
              "    }\n",
              "\n",
              "    .dataframe tbody tr th {\n",
              "        vertical-align: top;\n",
              "    }\n",
              "\n",
              "    .dataframe thead th {\n",
              "        text-align: right;\n",
              "    }\n",
              "</style>\n",
              "<table border=\"1\" class=\"dataframe\">\n",
              "  <thead>\n",
              "    <tr style=\"text-align: right;\">\n",
              "      <th></th>\n",
              "      <th>image</th>\n",
              "      <th>level</th>\n",
              "    </tr>\n",
              "  </thead>\n",
              "  <tbody>\n",
              "    <tr>\n",
              "      <th>0</th>\n",
              "      <td>10_left.jpeg</td>\n",
              "      <td>0</td>\n",
              "    </tr>\n",
              "    <tr>\n",
              "      <th>1</th>\n",
              "      <td>10_right.jpeg</td>\n",
              "      <td>0</td>\n",
              "    </tr>\n",
              "    <tr>\n",
              "      <th>2</th>\n",
              "      <td>13_left.jpeg</td>\n",
              "      <td>0</td>\n",
              "    </tr>\n",
              "    <tr>\n",
              "      <th>3</th>\n",
              "      <td>13_right.jpeg</td>\n",
              "      <td>0</td>\n",
              "    </tr>\n",
              "    <tr>\n",
              "      <th>4</th>\n",
              "      <td>15_left.jpeg</td>\n",
              "      <td>1</td>\n",
              "    </tr>\n",
              "    <tr>\n",
              "      <th>...</th>\n",
              "      <td>...</td>\n",
              "      <td>...</td>\n",
              "    </tr>\n",
              "    <tr>\n",
              "      <th>35121</th>\n",
              "      <td>44347_right.jpeg</td>\n",
              "      <td>0</td>\n",
              "    </tr>\n",
              "    <tr>\n",
              "      <th>35122</th>\n",
              "      <td>44348_left.jpeg</td>\n",
              "      <td>0</td>\n",
              "    </tr>\n",
              "    <tr>\n",
              "      <th>35123</th>\n",
              "      <td>44348_right.jpeg</td>\n",
              "      <td>0</td>\n",
              "    </tr>\n",
              "    <tr>\n",
              "      <th>35124</th>\n",
              "      <td>44349_left.jpeg</td>\n",
              "      <td>0</td>\n",
              "    </tr>\n",
              "    <tr>\n",
              "      <th>35125</th>\n",
              "      <td>44349_right.jpeg</td>\n",
              "      <td>1</td>\n",
              "    </tr>\n",
              "  </tbody>\n",
              "</table>\n",
              "<p>35126 rows × 2 columns</p>\n",
              "</div>\n",
              "      <button class=\"colab-df-convert\" onclick=\"convertToInteractive('df-7cdb64ed-8538-4518-94c8-bb73af0a4769')\"\n",
              "              title=\"Convert this dataframe to an interactive table.\"\n",
              "              style=\"display:none;\">\n",
              "        \n",
              "  <svg xmlns=\"http://www.w3.org/2000/svg\" height=\"24px\"viewBox=\"0 0 24 24\"\n",
              "       width=\"24px\">\n",
              "    <path d=\"M0 0h24v24H0V0z\" fill=\"none\"/>\n",
              "    <path d=\"M18.56 5.44l.94 2.06.94-2.06 2.06-.94-2.06-.94-.94-2.06-.94 2.06-2.06.94zm-11 1L8.5 8.5l.94-2.06 2.06-.94-2.06-.94L8.5 2.5l-.94 2.06-2.06.94zm10 10l.94 2.06.94-2.06 2.06-.94-2.06-.94-.94-2.06-.94 2.06-2.06.94z\"/><path d=\"M17.41 7.96l-1.37-1.37c-.4-.4-.92-.59-1.43-.59-.52 0-1.04.2-1.43.59L10.3 9.45l-7.72 7.72c-.78.78-.78 2.05 0 2.83L4 21.41c.39.39.9.59 1.41.59.51 0 1.02-.2 1.41-.59l7.78-7.78 2.81-2.81c.8-.78.8-2.07 0-2.86zM5.41 20L4 18.59l7.72-7.72 1.47 1.35L5.41 20z\"/>\n",
              "  </svg>\n",
              "      </button>\n",
              "      \n",
              "  <style>\n",
              "    .colab-df-container {\n",
              "      display:flex;\n",
              "      flex-wrap:wrap;\n",
              "      gap: 12px;\n",
              "    }\n",
              "\n",
              "    .colab-df-convert {\n",
              "      background-color: #E8F0FE;\n",
              "      border: none;\n",
              "      border-radius: 50%;\n",
              "      cursor: pointer;\n",
              "      display: none;\n",
              "      fill: #1967D2;\n",
              "      height: 32px;\n",
              "      padding: 0 0 0 0;\n",
              "      width: 32px;\n",
              "    }\n",
              "\n",
              "    .colab-df-convert:hover {\n",
              "      background-color: #E2EBFA;\n",
              "      box-shadow: 0px 1px 2px rgba(60, 64, 67, 0.3), 0px 1px 3px 1px rgba(60, 64, 67, 0.15);\n",
              "      fill: #174EA6;\n",
              "    }\n",
              "\n",
              "    [theme=dark] .colab-df-convert {\n",
              "      background-color: #3B4455;\n",
              "      fill: #D2E3FC;\n",
              "    }\n",
              "\n",
              "    [theme=dark] .colab-df-convert:hover {\n",
              "      background-color: #434B5C;\n",
              "      box-shadow: 0px 1px 3px 1px rgba(0, 0, 0, 0.15);\n",
              "      filter: drop-shadow(0px 1px 2px rgba(0, 0, 0, 0.3));\n",
              "      fill: #FFFFFF;\n",
              "    }\n",
              "  </style>\n",
              "\n",
              "      <script>\n",
              "        const buttonEl =\n",
              "          document.querySelector('#df-7cdb64ed-8538-4518-94c8-bb73af0a4769 button.colab-df-convert');\n",
              "        buttonEl.style.display =\n",
              "          google.colab.kernel.accessAllowed ? 'block' : 'none';\n",
              "\n",
              "        async function convertToInteractive(key) {\n",
              "          const element = document.querySelector('#df-7cdb64ed-8538-4518-94c8-bb73af0a4769');\n",
              "          const dataTable =\n",
              "            await google.colab.kernel.invokeFunction('convertToInteractive',\n",
              "                                                     [key], {});\n",
              "          if (!dataTable) return;\n",
              "\n",
              "          const docLinkHtml = 'Like what you see? Visit the ' +\n",
              "            '<a target=\"_blank\" href=https://colab.research.google.com/notebooks/data_table.ipynb>data table notebook</a>'\n",
              "            + ' to learn more about interactive tables.';\n",
              "          element.innerHTML = '';\n",
              "          dataTable['output_type'] = 'display_data';\n",
              "          await google.colab.output.renderOutput(dataTable, element);\n",
              "          const docLink = document.createElement('div');\n",
              "          docLink.innerHTML = docLinkHtml;\n",
              "          element.appendChild(docLink);\n",
              "        }\n",
              "      </script>\n",
              "    </div>\n",
              "  </div>\n",
              "  "
            ],
            "text/plain": [
              "                  image level\n",
              "0          10_left.jpeg     0\n",
              "1         10_right.jpeg     0\n",
              "2          13_left.jpeg     0\n",
              "3         13_right.jpeg     0\n",
              "4          15_left.jpeg     1\n",
              "...                 ...   ...\n",
              "35121  44347_right.jpeg     0\n",
              "35122   44348_left.jpeg     0\n",
              "35123  44348_right.jpeg     0\n",
              "35124   44349_left.jpeg     0\n",
              "35125  44349_right.jpeg     1\n",
              "\n",
              "[35126 rows x 2 columns]"
            ]
          },
          "metadata": {},
          "execution_count": 6
        }
      ]
    },
    {
      "cell_type": "markdown",
      "metadata": {
        "id": "XGNZhjE28SBq"
      },
      "source": [
        "#Train/Test Split"
      ],
      "id": "XGNZhjE28SBq"
    },
    {
      "cell_type": "markdown",
      "source": [
        "The Dataset contains 35126 images. We will split the dataset first into a test and train split and then perform another split to keep a set for validation. The split of 10% was chosen because there are enough images to make a sizable test and validation sample at that threshold. "
      ],
      "metadata": {
        "id": "au4PxOHXrh3M"
      },
      "id": "au4PxOHXrh3M"
    },
    {
      "cell_type": "code",
      "execution_count": null,
      "metadata": {
        "id": "88U_FHz571nP"
      },
      "outputs": [],
      "source": [
        "initial_train_sp, test_sp = train_test_split(train_labels, test_size=.1, stratify= train_labels['level'], random_state=random_state)"
      ],
      "id": "88U_FHz571nP"
    },
    {
      "cell_type": "code",
      "execution_count": null,
      "metadata": {
        "id": "xFXgyDnf71rN"
      },
      "outputs": [],
      "source": [
        "train_sp, val_sp = train_test_split(initial_train_sp, test_size=.1, stratify= initial_train_sp['level'], random_state=random_state)"
      ],
      "id": "xFXgyDnf71rN"
    },
    {
      "cell_type": "code",
      "source": [
        "test_reshaped = np.array(test_sp['level']).reshape(-1,1).astype(int)\n",
        "test_reshaped"
      ],
      "metadata": {
        "colab": {
          "base_uri": "https://localhost:8080/"
        },
        "id": "B03wOPcG14oD",
        "outputId": "533b2102-e4f5-48f3-d7a7-e4e6d24e0fee"
      },
      "id": "B03wOPcG14oD",
      "execution_count": null,
      "outputs": [
        {
          "output_type": "execute_result",
          "data": {
            "text/plain": [
              "array([[0],\n",
              "       [0],\n",
              "       [0],\n",
              "       ...,\n",
              "       [0],\n",
              "       [0],\n",
              "       [0]])"
            ]
          },
          "metadata": {},
          "execution_count": 9
        }
      ]
    },
    {
      "cell_type": "markdown",
      "metadata": {
        "id": "wud-PqG88Zj1"
      },
      "source": [
        "#Making Directories"
      ],
      "id": "wud-PqG88Zj1"
    },
    {
      "cell_type": "code",
      "execution_count": null,
      "metadata": {
        "id": "vPshegLI0KLp"
      },
      "outputs": [],
      "source": [
        "data_dir = '/content/gdrive/My Drive/Flatiron/kaggle_train'"
      ],
      "id": "vPshegLI0KLp"
    },
    {
      "cell_type": "code",
      "execution_count": null,
      "metadata": {
        "colab": {
          "base_uri": "https://localhost:8080/"
        },
        "id": "fPUbNCfy1M2j",
        "outputId": "b790ac2a-bd1d-4544-b531-004aaa2c38d2"
      },
      "outputs": [
        {
          "output_type": "execute_result",
          "data": {
            "text/plain": [
              "['14702_left.jpeg',\n",
              " '1469_left.jpeg',\n",
              " '14698_left.jpeg',\n",
              " '1469_right.jpeg',\n",
              " '14698_right.jpeg',\n",
              " '14702_right.jpeg',\n",
              " '14712_left.jpeg',\n",
              " '14711_left.jpeg',\n",
              " '14711_right.jpeg',\n",
              " '14710_right.jpeg']"
            ]
          },
          "metadata": {},
          "execution_count": 12
        }
      ],
      "source": [
        "local_dataset_imgs_names = [file for file in os.listdir(data_dir)]\n",
        "local_dataset_imgs_names[30000:30010]"
      ],
      "id": "fPUbNCfy1M2j"
    },
    {
      "cell_type": "code",
      "execution_count": null,
      "metadata": {
        "colab": {
          "base_uri": "https://localhost:8080/"
        },
        "id": "fRWYTAKT1M5D",
        "outputId": "dc5464ed-3b80-49cc-d710-746844f4b4f8"
      },
      "outputs": [
        {
          "output_type": "stream",
          "name": "stdout",
          "text": [
            "There are 35126 eye images.\n"
          ]
        }
      ],
      "source": [
        "print('There are', len(local_dataset_imgs_names), 'eye images.')"
      ],
      "id": "fRWYTAKT1M5D"
    },
    {
      "cell_type": "code",
      "source": [
        "train_labels['level'].value_counts()"
      ],
      "metadata": {
        "colab": {
          "base_uri": "https://localhost:8080/"
        },
        "id": "TQ6soW6ry-xo",
        "outputId": "5dbb07fa-cf20-4010-acb9-4d271b8c448d"
      },
      "id": "TQ6soW6ry-xo",
      "execution_count": null,
      "outputs": [
        {
          "output_type": "execute_result",
          "data": {
            "text/plain": [
              "0    25810\n",
              "1     9316\n",
              "Name: level, dtype: int64"
            ]
          },
          "metadata": {},
          "execution_count": 14
        }
      ]
    },
    {
      "cell_type": "code",
      "execution_count": null,
      "metadata": {
        "id": "izeoeOgr1M7w"
      },
      "outputs": [],
      "source": [
        "local_split_dir = '/content/gdrive/My Drive/Flatiron/split'\n",
        "\n",
        "\n",
        "train_folder = os.path.join(local_split_dir, 'train')\n",
        "val_folder = os.path.join(local_split_dir, 'validation')\n",
        "test_folder = os.path.join(local_split_dir, 'test')\n"
      ],
      "id": "izeoeOgr1M7w"
    },
    {
      "cell_type": "code",
      "source": [
        "train_norm_dir = os.path.join(train_folder, '0')\n",
        "train_positive_dir = os.path.join(train_folder, '1')"
      ],
      "metadata": {
        "id": "fLmtW3Icg342"
      },
      "id": "fLmtW3Icg342",
      "execution_count": null,
      "outputs": []
    },
    {
      "cell_type": "code",
      "source": [
        "normal= len(os.listdir(train_norm_dir))\n",
        "positive= len(os.listdir(train_positive_dir))\n",
        "\n",
        "train_count = normal + positive\n",
        "weight_for_0 = (1 / normal) * (train_count) / 2.0\n",
        "weight_for_1 = (1 / positive) * (train_count) / 2.0\n",
        "\n",
        "weight = {0: weight_for_0, 1: weight_for_1}\n",
        "\n",
        "print(\"Weight for class 0: {:.2f}\".format(weight_for_0))\n",
        "print(\"Weight for class 1: {:.2f}\".format(weight_for_1))"
      ],
      "metadata": {
        "colab": {
          "base_uri": "https://localhost:8080/"
        },
        "id": "y-dimrYanfcX",
        "outputId": "9be69232-2e26-4657-ea31-eedce3b03d9f"
      },
      "execution_count": null,
      "outputs": [
        {
          "output_type": "stream",
          "name": "stdout",
          "text": [
            "Weight for class 0: 0.68\n",
            "Weight for class 1: 1.89\n"
          ]
        }
      ],
      "id": "y-dimrYanfcX"
    },
    {
      "cell_type": "code",
      "source": [
        "len(os.listdir(train_positive_dir ))"
      ],
      "metadata": {
        "colab": {
          "base_uri": "https://localhost:8080/"
        },
        "id": "2R68KT8lgBOf",
        "outputId": "2652f1fa-040c-4cf0-9886-fc7cb6e9ab90"
      },
      "id": "2R68KT8lgBOf",
      "execution_count": null,
      "outputs": [
        {
          "output_type": "execute_result",
          "data": {
            "text/plain": [
              "7545"
            ]
          },
          "metadata": {},
          "execution_count": 23
        }
      ]
    },
    {
      "cell_type": "code",
      "execution_count": null,
      "metadata": {
        "id": "oxUddww_1M_N"
      },
      "outputs": [],
      "source": [
        "#Make Directories\n",
        "#os.mkdir(train_folder)\n",
        "#os.mkdir(val_folder)\n",
        "#os.mkdir(test_folder)"
      ],
      "id": "oxUddww_1M_N"
    },
    {
      "cell_type": "code",
      "execution_count": null,
      "metadata": {
        "id": "RCGcBi-x1NEt"
      },
      "outputs": [],
      "source": [
        "#make sub directroies\n",
        "#for class_name in train_labels['level'].unique():\n",
        " #    for folder in ['train', 'validation', 'test']:\n",
        "  #       os.mkdir(os.path.join('/content/gdrive/My Drive/Flatiron/split/', folder, class_name))\n"
      ],
      "id": "RCGcBi-x1NEt"
    },
    {
      "cell_type": "code",
      "execution_count": null,
      "metadata": {
        "id": "lJ5DUE3n1NJf"
      },
      "outputs": [],
      "source": [
        "img_dfs = [train_sp, val_sp, test_sp]\n",
        "img_names_prezip = [list(df['image'].values) for df in img_dfs]\n",
        "img_names = list(zip([('train'), ('validation'), ('test')], img_names_prezip))"
      ],
      "id": "lJ5DUE3n1NJf"
    },
    {
      "cell_type": "code",
      "execution_count": null,
      "metadata": {
        "id": "YcdL4pO51NOT"
      },
      "outputs": [],
      "source": [
        "# for folder, img_list in img_names:\n",
        "#      for image in img_list:\n",
        "#         class_name = train_labels[train_labels['image'] == image]['level'].values[0]\n",
        "#         origin = os.path.join(data_dir, image)\n",
        "#         destination = os.path.join('/content/gdrive/My Drive/Flatiron/split/', folder, class_name, image)\n",
        "#         shutil.copyfile(origin, destination)"
      ],
      "id": "YcdL4pO51NOT"
    },
    {
      "cell_type": "markdown",
      "metadata": {
        "id": "d3284a7a"
      },
      "source": [
        "## Model creation"
      ],
      "id": "d3284a7a"
    },
    {
      "cell_type": "code",
      "execution_count": null,
      "metadata": {
        "colab": {
          "base_uri": "https://localhost:8080/"
        },
        "id": "FtBQeXbywSkC",
        "outputId": "c946304f-2499-4c09-ec7b-1b134e0d23b2"
      },
      "outputs": [
        {
          "output_type": "stream",
          "name": "stdout",
          "text": [
            "Found 28451 files belonging to 2 classes.\n",
            "Found 3162 files belonging to 2 classes.\n",
            "Found 3513 files belonging to 2 classes.\n"
          ]
        }
      ],
      "source": [
        "image_size = (256,256)\n",
        "batch_size = 32\n",
        "\n",
        "train_ds = tf.keras.preprocessing.image_dataset_from_directory(\n",
        "    train_folder,\n",
        "    image_size=image_size,\n",
        "    batch_size=batch_size,\n",
        ")\n",
        "val_ds = tf.keras.preprocessing.image_dataset_from_directory(\n",
        "    val_folder,\n",
        "    image_size=image_size,\n",
        "    batch_size=batch_size,\n",
        ")\n",
        "\n",
        "\n",
        "test_ds = tf.keras.preprocessing.image_dataset_from_directory(\n",
        "    test_folder,\n",
        "    image_size=image_size,\n",
        "    batch_size=batch_size,\n",
        ")\n"
      ],
      "id": "FtBQeXbywSkC"
    },
    {
      "cell_type": "code",
      "execution_count": null,
      "metadata": {
        "id": "-G3yRU-Ay14x"
      },
      "outputs": [],
      "source": [
        "data_augmentation = keras.Sequential(\n",
        "    [\n",
        "        layers.RandomFlip(\"horizontal\"),\n",
        "        layers.RandomZoom(0.2),\n",
        "        layers.RandomContrast(0.2),\n",
        "        layers.RandomRotation(0.1),\n",
        "    ]\n",
        ")"
      ],
      "id": "-G3yRU-Ay14x"
    },
    {
      "cell_type": "code",
      "execution_count": null,
      "metadata": {
        "id": "steiwnJwwt8W"
      },
      "outputs": [],
      "source": [
        "AUTOTUNE = tf.data.AUTOTUNE\n",
        "\n",
        "train_ds = train_ds.cache().prefetch(buffer_size=AUTOTUNE)\n",
        "val_ds = val_ds.cache().prefetch(buffer_size=AUTOTUNE)"
      ],
      "id": "steiwnJwwt8W"
    },
    {
      "cell_type": "markdown",
      "source": [
        "Modeling"
      ],
      "metadata": {
        "id": "RJIC58Mfcqdh"
      },
      "id": "RJIC58Mfcqdh"
    },
    {
      "cell_type": "markdown",
      "metadata": {
        "id": "Wadm-DhQVItM"
      },
      "source": [
        "DenseNet201"
      ],
      "id": "Wadm-DhQVItM"
    },
    {
      "cell_type": "markdown",
      "source": [
        "# Inceptionresnetv2 accounting for class imbalance"
      ],
      "metadata": {
        "id": "XTRbJ07md8mw"
      },
      "id": "XTRbJ07md8mw"
    },
    {
      "cell_type": "code",
      "execution_count": null,
      "metadata": {
        "id": "f1erPGOXe2LL",
        "colab": {
          "base_uri": "https://localhost:8080/"
        },
        "outputId": "5b6b0a5e-892a-4ed4-d4c1-ebfcef6f9092"
      },
      "outputs": [
        {
          "output_type": "stream",
          "name": "stdout",
          "text": [
            "Downloading data from https://storage.googleapis.com/tensorflow/keras-applications/inception_resnet_v2/inception_resnet_v2_weights_tf_dim_ordering_tf_kernels_notop.h5\n",
            "219062272/219055592 [==============================] - 4s 0us/step\n",
            "219070464/219055592 [==============================] - 4s 0us/step\n"
          ]
        }
      ],
      "source": [
        "base_model = keras.applications.InceptionResNetV2(\n",
        "    weights='imagenet',  # Load weights pre-trained on ImageNet.\n",
        "    input_shape=(256, 256, 3),\n",
        "    include_top=False)  # Do not include the ImageNet classifier at the top.\n",
        "\n",
        "base_model.trainable = False"
      ],
      "id": "f1erPGOXe2LL"
    },
    {
      "cell_type": "code",
      "execution_count": null,
      "metadata": {
        "colab": {
          "base_uri": "https://localhost:8080/"
        },
        "outputId": "d6983077-3770-4491-ea11-5379795d4e04",
        "id": "NlSxWO4fe2LL"
      },
      "outputs": [
        {
          "output_type": "stream",
          "name": "stdout",
          "text": [
            "Model: \"model\"\n",
            "_________________________________________________________________\n",
            " Layer (type)                Output Shape              Param #   \n",
            "=================================================================\n",
            " input_2 (InputLayer)        [(None, 256, 256, 3)]     0         \n",
            "                                                                 \n",
            " sequential (Sequential)     (None, 256, 256, 3)       0         \n",
            "                                                                 \n",
            " rescaling (Rescaling)       (None, 256, 256, 3)       0         \n",
            "                                                                 \n",
            " inception_resnet_v2 (Functi  (None, 6, 6, 1536)       54336736  \n",
            " onal)                                                           \n",
            "                                                                 \n",
            " global_average_pooling2d (G  (None, 1536)             0         \n",
            " lobalAveragePooling2D)                                          \n",
            "                                                                 \n",
            " dropout (Dropout)           (None, 1536)              0         \n",
            "                                                                 \n",
            " dense (Dense)               (None, 1)                 1537      \n",
            "                                                                 \n",
            "=================================================================\n",
            "Total params: 54,338,273\n",
            "Trainable params: 1,537\n",
            "Non-trainable params: 54,336,736\n",
            "_________________________________________________________________\n"
          ]
        }
      ],
      "source": [
        "# Create new model on top\n",
        "inputs = keras.Input(shape=(256, 256, 3))\n",
        "# We make sure that the base_model is running in inference mode here,\n",
        "# by passing `training=False`. This is important for fine-tuning, as you will\n",
        "# learn in a few paragraphs.\n",
        "x = data_augmentation(inputs)\n",
        "\n",
        "# Pre-trained Xception weights requires that input be scaled\n",
        "# from (0, 255) to a range of (-1., +1.), the rescaling layer\n",
        "# outputs: `(inputs * scale) + offset`\n",
        "scale_layer = keras.layers.Rescaling(scale=1 / 127.5, offset=-1)\n",
        "x = scale_layer(x)\n",
        "\n",
        "# The base model contains batchnorm layers. We want to keep them in inference mode\n",
        "# when we unfreeze the base model for fine-tuning, so we make sure that the\n",
        "# base_model is running in inference mode here.\n",
        "x = base_model(x, training=False)\n",
        "x = keras.layers.GlobalAveragePooling2D()(x)\n",
        "x = keras.layers.Dropout(0.2)(x)  # Regularize with dropout\n",
        "outputs = keras.layers.Dense(1)(x)\n",
        "model = keras.Model(inputs, outputs)\n",
        "\n",
        "model.summary()"
      ],
      "id": "NlSxWO4fe2LL"
    },
    {
      "cell_type": "code",
      "execution_count": null,
      "metadata": {
        "colab": {
          "base_uri": "https://localhost:8080/"
        },
        "outputId": "41653785-5fa0-41bd-cb7b-9f61e790779c",
        "id": "GCgx4_2Ce2LM"
      },
      "outputs": [
        {
          "output_type": "stream",
          "name": "stdout",
          "text": [
            "Epoch 1/20\n",
            "890/890 [==============================] - ETA: 0s - loss: 0.7026 - binary_accuracy: 0.6719\n",
            "Epoch 1: val_loss improved from inf to 0.57543, saving model to /content/gdrive/My Drive/Flatiron/models/InceptionResNetV2_weighted256x256.hdf5\n",
            "890/890 [==============================] - 2184s 2s/step - loss: 0.7026 - binary_accuracy: 0.6719 - val_loss: 0.5754 - val_binary_accuracy: 0.7483\n",
            "Epoch 2/20\n",
            "889/890 [============================>.] - ETA: 0s - loss: 0.6768 - binary_accuracy: 0.6976\n",
            "Epoch 2: val_loss improved from 0.57543 to 0.56517, saving model to /content/gdrive/My Drive/Flatiron/models/InceptionResNetV2_weighted256x256.hdf5\n",
            "890/890 [==============================] - 142s 159ms/step - loss: 0.6768 - binary_accuracy: 0.6976 - val_loss: 0.5652 - val_binary_accuracy: 0.7540\n",
            "Epoch 3/20\n",
            "889/890 [============================>.] - ETA: 0s - loss: 0.6681 - binary_accuracy: 0.7057\n",
            "Epoch 3: val_loss did not improve from 0.56517\n",
            "890/890 [==============================] - 137s 154ms/step - loss: 0.6681 - binary_accuracy: 0.7057 - val_loss: 0.5828 - val_binary_accuracy: 0.7574\n",
            "Epoch 4/20\n",
            "889/890 [============================>.] - ETA: 0s - loss: 0.6652 - binary_accuracy: 0.7069\n",
            "Epoch 4: val_loss improved from 0.56517 to 0.55835, saving model to /content/gdrive/My Drive/Flatiron/models/InceptionResNetV2_weighted256x256.hdf5\n",
            "890/890 [==============================] - 139s 156ms/step - loss: 0.6652 - binary_accuracy: 0.7069 - val_loss: 0.5583 - val_binary_accuracy: 0.7590\n",
            "Epoch 5/20\n",
            "889/890 [============================>.] - ETA: 0s - loss: 0.6644 - binary_accuracy: 0.7073\n",
            "Epoch 5: val_loss did not improve from 0.55835\n",
            "890/890 [==============================] - 137s 154ms/step - loss: 0.6644 - binary_accuracy: 0.7073 - val_loss: 0.5795 - val_binary_accuracy: 0.7606\n",
            "Epoch 6/20\n",
            "889/890 [============================>.] - ETA: 0s - loss: 0.6648 - binary_accuracy: 0.7041\n",
            "Epoch 6: val_loss did not improve from 0.55835\n",
            "890/890 [==============================] - 136s 153ms/step - loss: 0.6648 - binary_accuracy: 0.7041 - val_loss: 0.5688 - val_binary_accuracy: 0.7615\n",
            "Epoch 7/20\n",
            "889/890 [============================>.] - ETA: 0s - loss: 0.6628 - binary_accuracy: 0.7102\n",
            "Epoch 7: val_loss improved from 0.55835 to 0.54873, saving model to /content/gdrive/My Drive/Flatiron/models/InceptionResNetV2_weighted256x256.hdf5\n",
            "890/890 [==============================] - 139s 156ms/step - loss: 0.6627 - binary_accuracy: 0.7102 - val_loss: 0.5487 - val_binary_accuracy: 0.7584\n",
            "Epoch 8/20\n",
            "889/890 [============================>.] - ETA: 0s - loss: 0.6646 - binary_accuracy: 0.7071\n",
            "Epoch 8: val_loss did not improve from 0.54873\n",
            "890/890 [==============================] - 136s 153ms/step - loss: 0.6645 - binary_accuracy: 0.7071 - val_loss: 0.5522 - val_binary_accuracy: 0.7584\n",
            "Epoch 9/20\n",
            "889/890 [============================>.] - ETA: 0s - loss: 0.6616 - binary_accuracy: 0.7111\n",
            "Epoch 9: val_loss did not improve from 0.54873\n",
            "890/890 [==============================] - 137s 153ms/step - loss: 0.6616 - binary_accuracy: 0.7111 - val_loss: 0.5696 - val_binary_accuracy: 0.7603\n",
            "Epoch 10/20\n",
            "889/890 [============================>.] - ETA: 0s - loss: 0.6617 - binary_accuracy: 0.7098\n",
            "Epoch 10: val_loss did not improve from 0.54873\n",
            "890/890 [==============================] - 137s 154ms/step - loss: 0.6617 - binary_accuracy: 0.7098 - val_loss: 0.5574 - val_binary_accuracy: 0.7549\n",
            "Epoch 11/20\n",
            "889/890 [============================>.] - ETA: 0s - loss: 0.6601 - binary_accuracy: 0.7098\n",
            "Epoch 11: val_loss did not improve from 0.54873\n",
            "890/890 [==============================] - 136s 153ms/step - loss: 0.6601 - binary_accuracy: 0.7097 - val_loss: 0.5556 - val_binary_accuracy: 0.7568\n",
            "Epoch 12/20\n",
            "889/890 [============================>.] - ETA: 0s - loss: 0.6593 - binary_accuracy: 0.7085\n",
            "Epoch 12: val_loss improved from 0.54873 to 0.54250, saving model to /content/gdrive/My Drive/Flatiron/models/InceptionResNetV2_weighted256x256.hdf5\n",
            "890/890 [==============================] - 139s 156ms/step - loss: 0.6592 - binary_accuracy: 0.7085 - val_loss: 0.5425 - val_binary_accuracy: 0.7574\n",
            "Epoch 13/20\n",
            "889/890 [============================>.] - ETA: 0s - loss: 0.6610 - binary_accuracy: 0.7081\n",
            "Epoch 13: val_loss did not improve from 0.54250\n",
            "890/890 [==============================] - 136s 153ms/step - loss: 0.6609 - binary_accuracy: 0.7081 - val_loss: 0.5781 - val_binary_accuracy: 0.7577\n",
            "Epoch 14/20\n",
            "889/890 [============================>.] - ETA: 0s - loss: 0.6625 - binary_accuracy: 0.7075\n",
            "Epoch 14: val_loss did not improve from 0.54250\n",
            "890/890 [==============================] - 136s 153ms/step - loss: 0.6624 - binary_accuracy: 0.7075 - val_loss: 0.5527 - val_binary_accuracy: 0.7562\n",
            "Epoch 15/20\n",
            "889/890 [============================>.] - ETA: 0s - loss: 0.6614 - binary_accuracy: 0.7106\n",
            "Epoch 15: val_loss did not improve from 0.54250\n",
            "890/890 [==============================] - 137s 154ms/step - loss: 0.6614 - binary_accuracy: 0.7106 - val_loss: 0.5521 - val_binary_accuracy: 0.7581\n",
            "Epoch 16/20\n",
            "889/890 [============================>.] - ETA: 0s - loss: 0.6591 - binary_accuracy: 0.7134\n",
            "Epoch 16: val_loss did not improve from 0.54250\n",
            "890/890 [==============================] - 136s 153ms/step - loss: 0.6590 - binary_accuracy: 0.7134 - val_loss: 0.5674 - val_binary_accuracy: 0.7603\n",
            "Epoch 17/20\n",
            "889/890 [============================>.] - ETA: 0s - loss: 0.6627 - binary_accuracy: 0.7119\n",
            "Epoch 17: val_loss did not improve from 0.54250\n",
            "890/890 [==============================] - 136s 153ms/step - loss: 0.6627 - binary_accuracy: 0.7119 - val_loss: 0.5635 - val_binary_accuracy: 0.7590\n",
            "Epoch 18/20\n",
            "889/890 [============================>.] - ETA: 0s - loss: 0.6621 - binary_accuracy: 0.7115\n",
            "Epoch 18: val_loss did not improve from 0.54250\n",
            "890/890 [==============================] - 137s 154ms/step - loss: 0.6620 - binary_accuracy: 0.7116 - val_loss: 0.5495 - val_binary_accuracy: 0.7587\n",
            "Epoch 19/20\n",
            "889/890 [============================>.] - ETA: 0s - loss: 0.6619 - binary_accuracy: 0.7096\n",
            "Epoch 19: val_loss did not improve from 0.54250\n",
            "890/890 [==============================] - 136s 153ms/step - loss: 0.6619 - binary_accuracy: 0.7097 - val_loss: 0.5640 - val_binary_accuracy: 0.7590\n",
            "Epoch 20/20\n",
            "889/890 [============================>.] - ETA: 0s - loss: 0.6607 - binary_accuracy: 0.7092\n",
            "Epoch 20: val_loss did not improve from 0.54250\n",
            "890/890 [==============================] - 137s 154ms/step - loss: 0.6607 - binary_accuracy: 0.7092 - val_loss: 0.5620 - val_binary_accuracy: 0.7593\n"
          ]
        },
        {
          "output_type": "execute_result",
          "data": {
            "text/plain": [
              "<keras.callbacks.History at 0x7f05a77c5bd0>"
            ]
          },
          "metadata": {},
          "execution_count": 33
        }
      ],
      "source": [
        "epochs = 20\n",
        "filepath = '/content/gdrive/My Drive/Flatiron/models/InceptionResNetV2_weighted256x256.hdf5'\n",
        "\n",
        "callbacks = ModelCheckpoint(filepath=filepath, \n",
        "                             monitor='val_loss',\n",
        "                             verbose=1, \n",
        "                             save_best_only=True,\n",
        "                             mode='min')\n",
        "\n",
        "model.compile(\n",
        "    optimizer=keras.optimizers.Adam(),\n",
        "    loss=keras.losses.BinaryCrossentropy(from_logits=True),\n",
        "    metrics=[keras.metrics.BinaryAccuracy()],\n",
        ")\n",
        "model.fit(\n",
        "    train_ds, epochs=epochs, callbacks=callbacks, validation_data=val_ds,class_weight=weight,\n",
        ")"
      ],
      "id": "GCgx4_2Ce2LM"
    },
    {
      "cell_type": "code",
      "execution_count": null,
      "metadata": {
        "colab": {
          "base_uri": "https://localhost:8080/"
        },
        "outputId": "f50c3bae-7c94-4b99-d8ec-65c0c9505b50",
        "id": "Jx81Y5jZe2LM"
      },
      "outputs": [
        {
          "output_type": "stream",
          "name": "stdout",
          "text": [
            "Model: \"model\"\n",
            "_________________________________________________________________\n",
            " Layer (type)                Output Shape              Param #   \n",
            "=================================================================\n",
            " input_2 (InputLayer)        [(None, 256, 256, 3)]     0         \n",
            "                                                                 \n",
            " sequential (Sequential)     (None, 256, 256, 3)       0         \n",
            "                                                                 \n",
            " rescaling (Rescaling)       (None, 256, 256, 3)       0         \n",
            "                                                                 \n",
            " inception_resnet_v2 (Functi  (None, 6, 6, 1536)       54336736  \n",
            " onal)                                                           \n",
            "                                                                 \n",
            " global_average_pooling2d (G  (None, 1536)             0         \n",
            " lobalAveragePooling2D)                                          \n",
            "                                                                 \n",
            " dropout (Dropout)           (None, 1536)              0         \n",
            "                                                                 \n",
            " dense (Dense)               (None, 1)                 1537      \n",
            "                                                                 \n",
            "=================================================================\n",
            "Total params: 54,338,273\n",
            "Trainable params: 54,277,729\n",
            "Non-trainable params: 60,544\n",
            "_________________________________________________________________\n",
            "Epoch 1/30\n",
            "890/890 [==============================] - ETA: 0s - loss: 0.6196 - binary_accuracy: 0.7560\n",
            "Epoch 1: val_loss improved from inf to 0.56901, saving model to /content/gdrive/My Drive/Flatiron/models/InceptionResNetV2_weighted_tuned256x256.hdf5\n",
            "890/890 [==============================] - 439s 473ms/step - loss: 0.6196 - binary_accuracy: 0.7560 - val_loss: 0.5690 - val_binary_accuracy: 0.7739\n",
            "Epoch 2/30\n",
            "890/890 [==============================] - ETA: 0s - loss: 0.5792 - binary_accuracy: 0.7801\n",
            "Epoch 2: val_loss improved from 0.56901 to 0.54267, saving model to /content/gdrive/My Drive/Flatiron/models/InceptionResNetV2_weighted_tuned256x256.hdf5\n",
            "890/890 [==============================] - 421s 473ms/step - loss: 0.5792 - binary_accuracy: 0.7801 - val_loss: 0.5427 - val_binary_accuracy: 0.7925\n",
            "Epoch 3/30\n",
            "890/890 [==============================] - ETA: 0s - loss: 0.5551 - binary_accuracy: 0.7916\n",
            "Epoch 3: val_loss improved from 0.54267 to 0.50485, saving model to /content/gdrive/My Drive/Flatiron/models/InceptionResNetV2_weighted_tuned256x256.hdf5\n",
            "890/890 [==============================] - 421s 473ms/step - loss: 0.5551 - binary_accuracy: 0.7916 - val_loss: 0.5049 - val_binary_accuracy: 0.7979\n",
            "Epoch 4/30\n",
            "890/890 [==============================] - ETA: 0s - loss: 0.5364 - binary_accuracy: 0.8013\n",
            "Epoch 4: val_loss did not improve from 0.50485\n",
            "890/890 [==============================] - 414s 465ms/step - loss: 0.5364 - binary_accuracy: 0.8013 - val_loss: 0.5219 - val_binary_accuracy: 0.8023\n",
            "Epoch 5/30\n",
            "890/890 [==============================] - ETA: 0s - loss: 0.5206 - binary_accuracy: 0.8085\n",
            "Epoch 5: val_loss improved from 0.50485 to 0.49321, saving model to /content/gdrive/My Drive/Flatiron/models/InceptionResNetV2_weighted_tuned256x256.hdf5\n",
            "890/890 [==============================] - 421s 473ms/step - loss: 0.5206 - binary_accuracy: 0.8085 - val_loss: 0.4932 - val_binary_accuracy: 0.8058\n",
            "Epoch 6/30\n",
            "890/890 [==============================] - ETA: 0s - loss: 0.5048 - binary_accuracy: 0.8126\n",
            "Epoch 6: val_loss improved from 0.49321 to 0.46110, saving model to /content/gdrive/My Drive/Flatiron/models/InceptionResNetV2_weighted_tuned256x256.hdf5\n",
            "890/890 [==============================] - 420s 472ms/step - loss: 0.5048 - binary_accuracy: 0.8126 - val_loss: 0.4611 - val_binary_accuracy: 0.8131\n",
            "Epoch 7/30\n",
            "890/890 [==============================] - ETA: 0s - loss: 0.4878 - binary_accuracy: 0.8223\n",
            "Epoch 7: val_loss did not improve from 0.46110\n",
            "890/890 [==============================] - 413s 465ms/step - loss: 0.4878 - binary_accuracy: 0.8223 - val_loss: 0.4879 - val_binary_accuracy: 0.8099\n",
            "Epoch 8/30\n",
            "890/890 [==============================] - ETA: 0s - loss: 0.4744 - binary_accuracy: 0.8283\n",
            "Epoch 8: val_loss did not improve from 0.46110\n",
            "890/890 [==============================] - 413s 464ms/step - loss: 0.4744 - binary_accuracy: 0.8283 - val_loss: 0.4704 - val_binary_accuracy: 0.8071\n",
            "Epoch 9/30\n",
            "890/890 [==============================] - ETA: 0s - loss: 0.4583 - binary_accuracy: 0.8307\n",
            "Epoch 9: val_loss did not improve from 0.46110\n",
            "890/890 [==============================] - 413s 464ms/step - loss: 0.4583 - binary_accuracy: 0.8307 - val_loss: 0.4856 - val_binary_accuracy: 0.8039\n",
            "Epoch 10/30\n",
            "890/890 [==============================] - ETA: 0s - loss: 0.4436 - binary_accuracy: 0.8366\n",
            "Epoch 10: val_loss did not improve from 0.46110\n",
            "890/890 [==============================] - 413s 464ms/step - loss: 0.4436 - binary_accuracy: 0.8366 - val_loss: 0.4990 - val_binary_accuracy: 0.8033\n",
            "Epoch 11/30\n",
            "890/890 [==============================] - ETA: 0s - loss: 0.4293 - binary_accuracy: 0.8399\n",
            "Epoch 11: val_loss did not improve from 0.46110\n",
            "890/890 [==============================] - 413s 464ms/step - loss: 0.4293 - binary_accuracy: 0.8399 - val_loss: 0.5006 - val_binary_accuracy: 0.8083\n",
            "Epoch 12/30\n",
            "890/890 [==============================] - ETA: 0s - loss: 0.4092 - binary_accuracy: 0.8494\n",
            "Epoch 12: val_loss did not improve from 0.46110\n",
            "890/890 [==============================] - 413s 465ms/step - loss: 0.4092 - binary_accuracy: 0.8494 - val_loss: 0.4880 - val_binary_accuracy: 0.8065\n",
            "Epoch 13/30\n",
            "890/890 [==============================] - ETA: 0s - loss: 0.3942 - binary_accuracy: 0.8556\n",
            "Epoch 13: val_loss did not improve from 0.46110\n",
            "890/890 [==============================] - 413s 465ms/step - loss: 0.3942 - binary_accuracy: 0.8556 - val_loss: 0.5415 - val_binary_accuracy: 0.7966\n",
            "Epoch 14/30\n",
            "890/890 [==============================] - ETA: 0s - loss: 0.3852 - binary_accuracy: 0.8567\n",
            "Epoch 14: val_loss did not improve from 0.46110\n",
            "890/890 [==============================] - 413s 464ms/step - loss: 0.3852 - binary_accuracy: 0.8567 - val_loss: 0.5502 - val_binary_accuracy: 0.7985\n",
            "Epoch 15/30\n",
            "890/890 [==============================] - ETA: 0s - loss: 0.3639 - binary_accuracy: 0.8632\n",
            "Epoch 15: val_loss did not improve from 0.46110\n",
            "890/890 [==============================] - 413s 464ms/step - loss: 0.3639 - binary_accuracy: 0.8632 - val_loss: 0.5312 - val_binary_accuracy: 0.8027\n",
            "Epoch 16/30\n",
            "890/890 [==============================] - ETA: 0s - loss: 0.3498 - binary_accuracy: 0.8681\n",
            "Epoch 16: val_loss did not improve from 0.46110\n",
            "890/890 [==============================] - 413s 464ms/step - loss: 0.3498 - binary_accuracy: 0.8681 - val_loss: 0.5470 - val_binary_accuracy: 0.7979\n",
            "Epoch 17/30\n",
            "890/890 [==============================] - ETA: 0s - loss: 0.3402 - binary_accuracy: 0.8746\n",
            "Epoch 17: val_loss did not improve from 0.46110\n",
            "890/890 [==============================] - 413s 464ms/step - loss: 0.3402 - binary_accuracy: 0.8746 - val_loss: 0.5481 - val_binary_accuracy: 0.8001\n",
            "Epoch 18/30\n",
            "890/890 [==============================] - ETA: 0s - loss: 0.3199 - binary_accuracy: 0.8807\n",
            "Epoch 18: val_loss did not improve from 0.46110\n",
            "890/890 [==============================] - 413s 464ms/step - loss: 0.3199 - binary_accuracy: 0.8807 - val_loss: 0.5432 - val_binary_accuracy: 0.7957\n",
            "Epoch 19/30\n",
            "890/890 [==============================] - ETA: 0s - loss: 0.3068 - binary_accuracy: 0.8823\n",
            "Epoch 19: val_loss did not improve from 0.46110\n",
            "890/890 [==============================] - 413s 464ms/step - loss: 0.3068 - binary_accuracy: 0.8823 - val_loss: 0.5872 - val_binary_accuracy: 0.7843\n",
            "Epoch 20/30\n",
            "890/890 [==============================] - ETA: 0s - loss: 0.2936 - binary_accuracy: 0.8901\n",
            "Epoch 20: val_loss did not improve from 0.46110\n",
            "890/890 [==============================] - 413s 464ms/step - loss: 0.2936 - binary_accuracy: 0.8901 - val_loss: 0.6314 - val_binary_accuracy: 0.7913\n",
            "Epoch 21/30\n",
            "890/890 [==============================] - ETA: 0s - loss: 0.2876 - binary_accuracy: 0.8921\n",
            "Epoch 21: val_loss did not improve from 0.46110\n",
            "890/890 [==============================] - 413s 464ms/step - loss: 0.2876 - binary_accuracy: 0.8921 - val_loss: 0.6216 - val_binary_accuracy: 0.7881\n",
            "Epoch 22/30\n",
            "890/890 [==============================] - ETA: 0s - loss: 0.2680 - binary_accuracy: 0.8991\n",
            "Epoch 22: val_loss did not improve from 0.46110\n",
            "890/890 [==============================] - 414s 465ms/step - loss: 0.2680 - binary_accuracy: 0.8991 - val_loss: 0.5949 - val_binary_accuracy: 0.8011\n",
            "Epoch 23/30\n",
            "890/890 [==============================] - ETA: 0s - loss: 0.2582 - binary_accuracy: 0.9014\n",
            "Epoch 23: val_loss did not improve from 0.46110\n",
            "890/890 [==============================] - 413s 464ms/step - loss: 0.2582 - binary_accuracy: 0.9014 - val_loss: 0.6774 - val_binary_accuracy: 0.7843\n",
            "Epoch 24/30\n",
            "890/890 [==============================] - ETA: 0s - loss: 0.2510 - binary_accuracy: 0.9054\n",
            "Epoch 24: val_loss did not improve from 0.46110\n",
            "890/890 [==============================] - 412s 463ms/step - loss: 0.2510 - binary_accuracy: 0.9054 - val_loss: 0.6383 - val_binary_accuracy: 0.7812\n",
            "Epoch 25/30\n",
            "890/890 [==============================] - ETA: 0s - loss: 0.2276 - binary_accuracy: 0.9159\n",
            "Epoch 25: val_loss did not improve from 0.46110\n",
            "890/890 [==============================] - 411s 462ms/step - loss: 0.2276 - binary_accuracy: 0.9159 - val_loss: 0.6720 - val_binary_accuracy: 0.7758\n",
            "Epoch 26/30\n",
            "890/890 [==============================] - ETA: 0s - loss: 0.2251 - binary_accuracy: 0.9160\n",
            "Epoch 26: val_loss did not improve from 0.46110\n",
            "890/890 [==============================] - 411s 462ms/step - loss: 0.2251 - binary_accuracy: 0.9160 - val_loss: 0.6856 - val_binary_accuracy: 0.7751\n",
            "Epoch 27/30\n",
            "890/890 [==============================] - ETA: 0s - loss: 0.2175 - binary_accuracy: 0.9184\n",
            "Epoch 27: val_loss did not improve from 0.46110\n",
            "890/890 [==============================] - 411s 462ms/step - loss: 0.2175 - binary_accuracy: 0.9184 - val_loss: 0.6750 - val_binary_accuracy: 0.7717\n",
            "Epoch 28/30\n",
            "890/890 [==============================] - ETA: 0s - loss: 0.2082 - binary_accuracy: 0.9225\n",
            "Epoch 28: val_loss did not improve from 0.46110\n",
            "890/890 [==============================] - 411s 462ms/step - loss: 0.2082 - binary_accuracy: 0.9225 - val_loss: 0.7065 - val_binary_accuracy: 0.7596\n",
            "Epoch 29/30\n",
            "890/890 [==============================] - ETA: 0s - loss: 0.1981 - binary_accuracy: 0.9265\n",
            "Epoch 29: val_loss did not improve from 0.46110\n",
            "890/890 [==============================] - 412s 463ms/step - loss: 0.1981 - binary_accuracy: 0.9265 - val_loss: 0.7298 - val_binary_accuracy: 0.7796\n",
            "Epoch 30/30\n",
            "890/890 [==============================] - ETA: 0s - loss: 0.1881 - binary_accuracy: 0.9293\n",
            "Epoch 30: val_loss did not improve from 0.46110\n",
            "890/890 [==============================] - 412s 463ms/step - loss: 0.1881 - binary_accuracy: 0.9293 - val_loss: 0.8071 - val_binary_accuracy: 0.7571\n"
          ]
        },
        {
          "output_type": "execute_result",
          "data": {
            "text/plain": [
              "<keras.callbacks.History at 0x7f05a8fca390>"
            ]
          },
          "metadata": {},
          "execution_count": 34
        }
      ],
      "source": [
        "base_model.trainable = True\n",
        "model.summary()\n",
        "\n",
        "epochs = 30\n",
        "\n",
        "filepath = '/content/gdrive/My Drive/Flatiron/models/InceptionResNetV2_weighted_tuned256x256.hdf5'\n",
        "\n",
        "callbacks = ModelCheckpoint(filepath=filepath, \n",
        "                             monitor='val_loss',\n",
        "                             verbose=1, \n",
        "                             save_best_only=True,\n",
        "                             mode='min')\n",
        "\n",
        "model.compile(\n",
        "    optimizer=keras.optimizers.Adam(1e-5),\n",
        "    loss=keras.losses.BinaryCrossentropy(from_logits=True),\n",
        "    metrics=[keras.metrics.BinaryAccuracy()],\n",
        ")\n",
        "\n",
        "model.fit(\n",
        "    train_ds, epochs=epochs, callbacks=callbacks, validation_data=val_ds, class_weight=weight,\n",
        ")"
      ],
      "id": "Jx81Y5jZe2LM"
    },
    {
      "cell_type": "code",
      "source": [
        "load_file = '/content/gdrive/My Drive/Flatiron/models/InceptionResNetV2_weighted_tuned256x256.hdf5'\n",
        "base_model = load_model(load_file)\n",
        "base_model.evaluate(test_ds)"
      ],
      "metadata": {
        "id": "Z_uN41gRe2LM",
        "colab": {
          "base_uri": "https://localhost:8080/"
        },
        "outputId": "d8cb5ea2-1fbb-4aea-8141-e10419857709"
      },
      "execution_count": null,
      "outputs": [
        {
          "output_type": "stream",
          "name": "stdout",
          "text": [
            "110/110 [==============================] - 254s 2s/step - loss: 0.4595 - binary_accuracy: 0.8153\n"
          ]
        },
        {
          "output_type": "execute_result",
          "data": {
            "text/plain": [
              "[0.45950642228126526, 0.8152576088905334]"
            ]
          },
          "metadata": {},
          "execution_count": 35
        }
      ],
      "id": "Z_uN41gRe2LM"
    },
    {
      "cell_type": "code",
      "source": [
        "pred = base_model.predict(test_ds)"
      ],
      "metadata": {
        "id": "y-sjts5SZDOE"
      },
      "id": "y-sjts5SZDOE",
      "execution_count": null,
      "outputs": []
    },
    {
      "cell_type": "code",
      "source": [
        "pred_transformed = np.exp(pred)/(1+np.exp(pred))"
      ],
      "metadata": {
        "id": "xv-EK3Doe2LM"
      },
      "execution_count": null,
      "outputs": [],
      "id": "xv-EK3Doe2LM"
    },
    {
      "cell_type": "code",
      "source": [
        ""
      ],
      "metadata": {
        "id": "Wtz91V-4e2LM"
      },
      "execution_count": null,
      "outputs": [],
      "id": "Wtz91V-4e2LM"
    },
    {
      "cell_type": "code",
      "source": [
        "preds = np.where(pred_transformed>0.3, 1,0)#if probability is less than .5 assign 0 if greater than 0 assign 1\n",
        "cm  = confusion_matrix(test_reshaped, preds)"
      ],
      "metadata": {
        "id": "R1ppeVfye2LN"
      },
      "execution_count": null,
      "outputs": [],
      "id": "R1ppeVfye2LN"
    },
    {
      "cell_type": "code",
      "source": [
        "group_names = ['True Neg','False Pos','False Neg','True Pos']\n",
        "categories = ['Normal', 'Diabetic Retinopathy']\n",
        "\n",
        "group_counts_1 = ['{0:0.0f}'.format(value) for value in cm.flatten()]\n",
        "labels_1 = [f'{v1}\\n{v2}' for v1, v2 in zip(group_names,group_counts_1)]\n",
        "labels_1 = np.asarray(labels_1).reshape(2,2)\n",
        "\n",
        "sns.set_context('talk')\n",
        "fig, ax= plt.subplots(figsize=(8,6))\n",
        "\n",
        "sns.heatmap(cm, annot=labels_1, xticklabels=categories, yticklabels=categories, cbar=None, fmt='', cmap='Blues', ax=ax)\n",
        "ax.set_ylabel('Actual')\n",
        "ax.set_yticklabels(ax.get_yticklabels(), va=\"center\")\n",
        "ax.set_xlabel('Predicted')\n",
        "ax.set_title('Densenet')"
      ],
      "metadata": {
        "colab": {
          "base_uri": "https://localhost:8080/",
          "height": 447
        },
        "outputId": "167b6ff4-f294-4dc6-90f9-34386498c441",
        "id": "X2gReq67e2LN"
      },
      "execution_count": null,
      "outputs": [
        {
          "output_type": "execute_result",
          "data": {
            "text/plain": [
              "Text(0.5, 1.0, 'Densenet')"
            ]
          },
          "metadata": {},
          "execution_count": 42
        },
        {
          "output_type": "display_data",
          "data": {
            "image/png": "[encoded data removed]",
            "text/plain": [
              "<Figure size 576x432 with 1 Axes>"
            ]
          },
          "metadata": {
            "needs_background": "light"
          }
        }
      ],
      "id": "X2gReq67e2LN"
    },
    {
      "cell_type": "code",
      "source": [
        "print(f'Recall:    {recall_score(test_reshaped, preds)}')\n",
        "print(f'Precision: {precision_score(test_reshaped, preds)}')\n",
        "print(f'Accuracy:  {accuracy_score(test_reshaped, preds)}')\n",
        "print(f'F1 score:  {f1_score(test_reshaped, preds)}')\n",
        "print(f'AUROC:     {roc_auc_score(test_reshaped, pred)}')"
      ],
      "metadata": {
        "colab": {
          "base_uri": "https://localhost:8080/"
        },
        "outputId": "9fa9b5f5-9966-4cec-8c7b-fce5cb7df3eb",
        "id": "L3RZrUvIe2LN"
      },
      "execution_count": null,
      "outputs": [
        {
          "output_type": "stream",
          "name": "stdout",
          "text": [
            "Recall:    0.44742489270386265\n",
            "Precision: 0.26292559899117274\n",
            "Accuracy:  0.5206376316538571\n",
            "F1 score:  0.33121525019857023\n",
            "AUROC:     0.4974888712995096\n"
          ]
        }
      ],
      "id": "L3RZrUvIe2LN"
    },
    {
      "cell_type": "markdown",
      "metadata": {
        "id": "a467b7a3"
      },
      "source": [
        ""
      ],
      "id": "a467b7a3"
    }
  ],
  "metadata": {
    "accelerator": "GPU",
    "colab": {
      "collapsed_sections": [],
      "machine_shape": "hm",
      "name": "InceptionResNetV2_model.ipynb",
      "provenance": [],
      "background_execution": "on",
      "include_colab_link": true
    },
    "interpreter": {
      "hash": "d2f5a53b1e33a43d9b2d948d9a196b70d8d8637641a555647cecaa854bbb4499"
    },
    "kernelspec": {
      "display_name": "Python 3.8.12 ('learn-env')",
      "language": "python",
      "name": "python3"
    },
    "language_info": {
      "codemirror_mode": {
        "name": "ipython",
        "version": 3
      },
      "file_extension": ".py",
      "mimetype": "text/x-python",
      "name": "python",
      "nbconvert_exporter": "python",
      "pygments_lexer": "ipython3",
      "version": "3.8.12"
    }
  },
  "nbformat": 4,
  "nbformat_minor": 5
}